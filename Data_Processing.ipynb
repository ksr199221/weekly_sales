{
 "cells": [
  {
   "cell_type": "markdown",
   "metadata": {
    "application/vnd.databricks.v1+cell": {
     "cellMetadata": {},
     "inputWidgets": {},
     "nuid": "7ceef1c9-c7e4-43fa-aa52-f9c7406680fc",
     "showTitle": false,
     "tableResultSettingsMap": {},
     "title": ""
    }
   },
   "source": [
    "### Reading Delta Tables"
   ]
  },
  {
   "cell_type": "code",
   "execution_count": 0,
   "metadata": {
    "application/vnd.databricks.v1+cell": {
     "cellMetadata": {
      "byteLimit": 2048000,
      "rowLimit": 10000
     },
     "inputWidgets": {},
     "nuid": "0baca220-e5cb-4ea8-a571-69b664c1ff16",
     "showTitle": false,
     "tableResultSettingsMap": {},
     "title": ""
    }
   },
   "outputs": [],
   "source": [
    "df_transactions = spark.read.table(\"sales_db.transactions\")\n",
    "df_calendar = spark.read.table(\"sales_db.calendar\")"
   ]
  },
  {
   "cell_type": "code",
   "execution_count": 0,
   "metadata": {
    "application/vnd.databricks.v1+cell": {
     "cellMetadata": {
      "byteLimit": 2048000,
      "rowLimit": 10000
     },
     "inputWidgets": {},
     "nuid": "b69d788b-c967-4492-bd3e-eb805fd117c2",
     "showTitle": false,
     "tableResultSettingsMap": {},
     "title": ""
    }
   },
   "outputs": [
    {
     "output_type": "stream",
     "name": "stdout",
     "output_type": "stream",
     "text": [
      "4503108\n1820\n"
     ]
    }
   ],
   "source": [
    "print(df_transactions.count())\n",
    "print(df_calendar.count())"
   ]
  },
  {
   "cell_type": "code",
   "execution_count": 0,
   "metadata": {
    "application/vnd.databricks.v1+cell": {
     "cellMetadata": {
      "byteLimit": 2048000,
      "rowLimit": 10000
     },
     "inputWidgets": {},
     "nuid": "14c0bb8e-2ac5-4fb1-b611-134b4b88d6cc",
     "showTitle": false,
     "tableResultSettingsMap": {},
     "title": ""
    }
   },
   "outputs": [
    {
     "output_type": "stream",
     "name": "stdout",
     "output_type": "stream",
     "text": [
      "root\n |-- order_id: long (nullable = true)\n |-- line_id: integer (nullable = true)\n |-- type: string (nullable = true)\n |-- dt: timestamp (nullable = true)\n |-- pos_site_id: string (nullable = true)\n |-- sku_id: string (nullable = true)\n |-- fscldt_id: integer (nullable = true)\n |-- price_substate_id: string (nullable = true)\n |-- sales_units: integer (nullable = true)\n |-- sales_dollars: double (nullable = true)\n |-- discount_dollars: double (nullable = true)\n |-- original_order_id: long (nullable = true)\n |-- original_line_id: integer (nullable = true)\n\n"
     ]
    }
   ],
   "source": [
    "df_transactions.printSchema()"
   ]
  },
  {
   "cell_type": "code",
   "execution_count": 0,
   "metadata": {
    "application/vnd.databricks.v1+cell": {
     "cellMetadata": {
      "byteLimit": 2048000,
      "rowLimit": 10000
     },
     "inputWidgets": {},
     "nuid": "8adb756e-1bd6-48f6-bd1c-69bbbb292057",
     "showTitle": false,
     "tableResultSettingsMap": {},
     "title": ""
    }
   },
   "outputs": [
    {
     "output_type": "display_data",
     "data": {
      "text/html": [
       "<style scoped>\n",
       "  .table-result-container {\n",
       "    max-height: 300px;\n",
       "    overflow: auto;\n",
       "  }\n",
       "  table, th, td {\n",
       "    border: 1px solid black;\n",
       "    border-collapse: collapse;\n",
       "  }\n",
       "  th, td {\n",
       "    padding: 5px;\n",
       "  }\n",
       "  th {\n",
       "    text-align: left;\n",
       "  }\n",
       "</style><div class='table-result-container'><table class='table-result'><thead style='background-color: white'><tr><th>order_id</th><th>line_id</th><th>type</th><th>dt</th><th>pos_site_id</th><th>sku_id</th><th>fscldt_id</th><th>price_substate_id</th><th>sales_units</th><th>sales_dollars</th><th>discount_dollars</th><th>original_order_id</th><th>original_line_id</th></tr></thead><tbody><tr><td>155291291</td><td>3</td><td>Cancel</td><td>2016-02-01T17:43:01.000+0000</td><td>CATMAIN</td><td>7208420100</td><td>20160201</td><td>FP</td><td>1</td><td>49.95</td><td>0.0</td><td>155291291</td><td>0</td></tr><tr><td>155026106</td><td>1</td><td>Cancel</td><td>2016-02-02T13:02:35.000+0000</td><td>CATMAIN</td><td>2800380501</td><td>20160202</td><td>FP</td><td>1</td><td>119.95</td><td>0.0</td><td>155026106</td><td>0</td></tr></tbody></table></div>"
      ]
     },
     "metadata": {
      "application/vnd.databricks.v1+output": {
       "addedWidgets": {},
       "aggData": [],
       "aggError": "",
       "aggOverflow": false,
       "aggSchema": [],
       "aggSeriesLimitReached": false,
       "aggType": "",
       "arguments": {},
       "columnCustomDisplayInfos": {},
       "data": [
        [
         155291291,
         3,
         "Cancel",
         "2016-02-01T17:43:01.000+0000",
         "CATMAIN",
         "7208420100",
         20160201,
         "FP",
         1,
         49.95,
         0.0,
         155291291,
         0
        ],
        [
         155026106,
         1,
         "Cancel",
         "2016-02-02T13:02:35.000+0000",
         "CATMAIN",
         "2800380501",
         20160202,
         "FP",
         1,
         119.95,
         0.0,
         155026106,
         0
        ]
       ],
       "datasetInfos": [],
       "dbfsResultPath": null,
       "isJsonSchema": true,
       "metadata": {},
       "overflow": false,
       "plotOptions": {
        "customPlotOptions": {},
        "displayType": "table",
        "pivotAggregation": null,
        "pivotColumns": null,
        "xColumns": null,
        "yColumns": null
       },
       "removedWidgets": [],
       "schema": [
        {
         "metadata": "{}",
         "name": "order_id",
         "type": "\"long\""
        },
        {
         "metadata": "{}",
         "name": "line_id",
         "type": "\"integer\""
        },
        {
         "metadata": "{}",
         "name": "type",
         "type": "\"string\""
        },
        {
         "metadata": "{}",
         "name": "dt",
         "type": "\"timestamp\""
        },
        {
         "metadata": "{}",
         "name": "pos_site_id",
         "type": "\"string\""
        },
        {
         "metadata": "{}",
         "name": "sku_id",
         "type": "\"string\""
        },
        {
         "metadata": "{}",
         "name": "fscldt_id",
         "type": "\"integer\""
        },
        {
         "metadata": "{}",
         "name": "price_substate_id",
         "type": "\"string\""
        },
        {
         "metadata": "{}",
         "name": "sales_units",
         "type": "\"integer\""
        },
        {
         "metadata": "{}",
         "name": "sales_dollars",
         "type": "\"double\""
        },
        {
         "metadata": "{}",
         "name": "discount_dollars",
         "type": "\"double\""
        },
        {
         "metadata": "{}",
         "name": "original_order_id",
         "type": "\"long\""
        },
        {
         "metadata": "{}",
         "name": "original_line_id",
         "type": "\"integer\""
        }
       ],
       "type": "table"
      }
     },
     "output_type": "display_data"
    }
   ],
   "source": [
    "display(df_transactions.limit(2))"
   ]
  },
  {
   "cell_type": "code",
   "execution_count": 0,
   "metadata": {
    "application/vnd.databricks.v1+cell": {
     "cellMetadata": {
      "byteLimit": 2048000,
      "rowLimit": 10000
     },
     "inputWidgets": {},
     "nuid": "77069beb-65ed-4855-8eac-7914e88f0060",
     "showTitle": false,
     "tableResultSettingsMap": {},
     "title": ""
    }
   },
   "outputs": [
    {
     "output_type": "stream",
     "name": "stdout",
     "output_type": "stream",
     "text": [
      "root\n |-- fscldt_id: integer (nullable = true)\n |-- fscldt_label: string (nullable = true)\n |-- fsclwk_id: integer (nullable = true)\n |-- fsclwk_label: string (nullable = true)\n |-- fsclmth_id: integer (nullable = true)\n |-- fsclmth_label: string (nullable = true)\n |-- fsclqrtr_id: integer (nullable = true)\n |-- fsclqrtr_label: string (nullable = true)\n |-- fsclyr_id: integer (nullable = true)\n |-- fsclyr_label: integer (nullable = true)\n |-- ssn_id: string (nullable = true)\n |-- ssn_label: string (nullable = true)\n |-- ly_fscldt_id: integer (nullable = true)\n |-- lly_fscldt_id: integer (nullable = true)\n |-- fscldow: integer (nullable = true)\n |-- fscldom: integer (nullable = true)\n |-- fscldoq: integer (nullable = true)\n |-- fscldoy: integer (nullable = true)\n |-- fsclwoy: integer (nullable = true)\n |-- fsclmoy: integer (nullable = true)\n |-- fsclqoy: integer (nullable = true)\n |-- date: date (nullable = true)\n\n"
     ]
    }
   ],
   "source": [
    "df_calendar.printSchema()"
   ]
  },
  {
   "cell_type": "code",
   "execution_count": 0,
   "metadata": {
    "application/vnd.databricks.v1+cell": {
     "cellMetadata": {
      "byteLimit": 2048000,
      "rowLimit": 10000
     },
     "inputWidgets": {},
     "nuid": "3fd1f24a-0eb3-4219-9437-c028e6189d41",
     "showTitle": false,
     "tableResultSettingsMap": {},
     "title": ""
    }
   },
   "outputs": [
    {
     "output_type": "display_data",
     "data": {
      "text/html": [
       "<style scoped>\n",
       "  .table-result-container {\n",
       "    max-height: 300px;\n",
       "    overflow: auto;\n",
       "  }\n",
       "  table, th, td {\n",
       "    border: 1px solid black;\n",
       "    border-collapse: collapse;\n",
       "  }\n",
       "  th, td {\n",
       "    padding: 5px;\n",
       "  }\n",
       "  th {\n",
       "    text-align: left;\n",
       "  }\n",
       "</style><div class='table-result-container'><table class='table-result'><thead style='background-color: white'><tr><th>fscldt_id</th><th>fscldt_label</th><th>fsclwk_id</th><th>fsclwk_label</th><th>fsclmth_id</th><th>fsclmth_label</th><th>fsclqrtr_id</th><th>fsclqrtr_label</th><th>fsclyr_id</th><th>fsclyr_label</th><th>ssn_id</th><th>ssn_label</th><th>ly_fscldt_id</th><th>lly_fscldt_id</th><th>fscldow</th><th>fscldom</th><th>fscldoq</th><th>fscldoy</th><th>fsclwoy</th><th>fsclmoy</th><th>fsclqoy</th><th>date</th></tr></thead><tbody><tr><td>20180204</td><td>Feb 4, 2018</td><td>201801</td><td>WK 01, 2018</td><td>201801</td><td>Feb, 2018</td><td>20181</td><td>Q1, 2018</td><td>2018</td><td>2018</td><td>SPRG2018</td><td>Spring 2018</td><td>20170205</td><td>20160207</td><td>1</td><td>1</td><td>1</td><td>1</td><td>1</td><td>1</td><td>1</td><td>2018-02-04</td></tr><tr><td>20180205</td><td>Feb 5, 2018</td><td>201801</td><td>WK 01, 2018</td><td>201801</td><td>Feb, 2018</td><td>20181</td><td>Q1, 2018</td><td>2018</td><td>2018</td><td>SPRG2018</td><td>Spring 2018</td><td>20170206</td><td>20160208</td><td>2</td><td>2</td><td>2</td><td>2</td><td>1</td><td>1</td><td>1</td><td>2018-02-05</td></tr></tbody></table></div>"
      ]
     },
     "metadata": {
      "application/vnd.databricks.v1+output": {
       "addedWidgets": {},
       "aggData": [],
       "aggError": "",
       "aggOverflow": false,
       "aggSchema": [],
       "aggSeriesLimitReached": false,
       "aggType": "",
       "arguments": {},
       "columnCustomDisplayInfos": {},
       "data": [
        [
         20180204,
         "Feb 4, 2018",
         201801,
         "WK 01, 2018",
         201801,
         "Feb, 2018",
         20181,
         "Q1, 2018",
         2018,
         2018,
         "SPRG2018",
         "Spring 2018",
         20170205,
         20160207,
         1,
         1,
         1,
         1,
         1,
         1,
         1,
         "2018-02-04"
        ],
        [
         20180205,
         "Feb 5, 2018",
         201801,
         "WK 01, 2018",
         201801,
         "Feb, 2018",
         20181,
         "Q1, 2018",
         2018,
         2018,
         "SPRG2018",
         "Spring 2018",
         20170206,
         20160208,
         2,
         2,
         2,
         2,
         1,
         1,
         1,
         "2018-02-05"
        ]
       ],
       "datasetInfos": [],
       "dbfsResultPath": null,
       "isJsonSchema": true,
       "metadata": {},
       "overflow": false,
       "plotOptions": {
        "customPlotOptions": {},
        "displayType": "table",
        "pivotAggregation": null,
        "pivotColumns": null,
        "xColumns": null,
        "yColumns": null
       },
       "removedWidgets": [],
       "schema": [
        {
         "metadata": "{}",
         "name": "fscldt_id",
         "type": "\"integer\""
        },
        {
         "metadata": "{}",
         "name": "fscldt_label",
         "type": "\"string\""
        },
        {
         "metadata": "{}",
         "name": "fsclwk_id",
         "type": "\"integer\""
        },
        {
         "metadata": "{}",
         "name": "fsclwk_label",
         "type": "\"string\""
        },
        {
         "metadata": "{}",
         "name": "fsclmth_id",
         "type": "\"integer\""
        },
        {
         "metadata": "{}",
         "name": "fsclmth_label",
         "type": "\"string\""
        },
        {
         "metadata": "{}",
         "name": "fsclqrtr_id",
         "type": "\"integer\""
        },
        {
         "metadata": "{}",
         "name": "fsclqrtr_label",
         "type": "\"string\""
        },
        {
         "metadata": "{}",
         "name": "fsclyr_id",
         "type": "\"integer\""
        },
        {
         "metadata": "{}",
         "name": "fsclyr_label",
         "type": "\"integer\""
        },
        {
         "metadata": "{}",
         "name": "ssn_id",
         "type": "\"string\""
        },
        {
         "metadata": "{}",
         "name": "ssn_label",
         "type": "\"string\""
        },
        {
         "metadata": "{}",
         "name": "ly_fscldt_id",
         "type": "\"integer\""
        },
        {
         "metadata": "{}",
         "name": "lly_fscldt_id",
         "type": "\"integer\""
        },
        {
         "metadata": "{}",
         "name": "fscldow",
         "type": "\"integer\""
        },
        {
         "metadata": "{}",
         "name": "fscldom",
         "type": "\"integer\""
        },
        {
         "metadata": "{}",
         "name": "fscldoq",
         "type": "\"integer\""
        },
        {
         "metadata": "{}",
         "name": "fscldoy",
         "type": "\"integer\""
        },
        {
         "metadata": "{}",
         "name": "fsclwoy",
         "type": "\"integer\""
        },
        {
         "metadata": "{}",
         "name": "fsclmoy",
         "type": "\"integer\""
        },
        {
         "metadata": "{}",
         "name": "fsclqoy",
         "type": "\"integer\""
        },
        {
         "metadata": "{\"__detected_date_formats\":\"yyyy-M-d\"}",
         "name": "date",
         "type": "\"date\""
        }
       ],
       "type": "table"
      }
     },
     "output_type": "display_data"
    }
   ],
   "source": [
    "display(df_calendar.limit(2))"
   ]
  },
  {
   "cell_type": "markdown",
   "metadata": {
    "application/vnd.databricks.v1+cell": {
     "cellMetadata": {},
     "inputWidgets": {},
     "nuid": "45c6ef01-7e3a-45be-87b9-6ab0e73009dd",
     "showTitle": false,
     "tableResultSettingsMap": {},
     "title": ""
    }
   },
   "source": [
    "### Weekly Sales Table"
   ]
  },
  {
   "cell_type": "code",
   "execution_count": 0,
   "metadata": {
    "application/vnd.databricks.v1+cell": {
     "cellMetadata": {
      "byteLimit": 2048000,
      "rowLimit": 10000
     },
     "inputWidgets": {},
     "nuid": "b80e881e-dce6-4357-8b2c-d994643959d9",
     "showTitle": false,
     "tableResultSettingsMap": {},
     "title": ""
    }
   },
   "outputs": [],
   "source": [
    "from pyspark.sql import functions as F\n",
    "from pyspark.sql import types as ty\n",
    "from datetime import datetime\n",
    "\n",
    "processed_date=datetime.now().strftime(\"%Y-%m-%d %H:%M:%S\")\n",
    "df_mview_weekly_sales = (\n",
    "    df_transactions.alias(\"t\")\n",
    "    .join(\n",
    "        df_calendar.alias(\"c\"),\n",
    "        df_transactions.fscldt_id == df_calendar.fscldt_id,\n",
    "        \"inner\",\n",
    "    )\n",
    "    .groupby(\n",
    "        \"t.pos_site_id\",\n",
    "        \"t.sku_id\",\n",
    "        \"c.fsclwk_id\",\n",
    "        \"t.price_substate_id\",\n",
    "        \"t.type\",\n",
    "    )\n",
    "    .agg(\n",
    "        F.sum(\"t.sales_units\").alias(\"total_sales_units\"),\n",
    "        F.sum(\"t.sales_dollars\").alias(\"sales_dollars\"),\n",
    "        F.sum(\"t.discount_dollars\").alias(\"discount_dollars\"),\n",
    "    )\n",
    "    .withColumn(\"processed_date\", F.lit(processed_date).cast(ty.TimestampType())) \n",
    ")"
   ]
  },
  {
   "cell_type": "code",
   "execution_count": 0,
   "metadata": {
    "application/vnd.databricks.v1+cell": {
     "cellMetadata": {
      "byteLimit": 2048000,
      "rowLimit": 10000
     },
     "inputWidgets": {},
     "nuid": "832d4fff-05a8-4102-8a02-5ac375d2610c",
     "showTitle": false,
     "tableResultSettingsMap": {},
     "title": ""
    }
   },
   "outputs": [
    {
     "output_type": "display_data",
     "data": {
      "text/html": [
       "<style scoped>\n",
       "  .table-result-container {\n",
       "    max-height: 300px;\n",
       "    overflow: auto;\n",
       "  }\n",
       "  table, th, td {\n",
       "    border: 1px solid black;\n",
       "    border-collapse: collapse;\n",
       "  }\n",
       "  th, td {\n",
       "    padding: 5px;\n",
       "  }\n",
       "  th {\n",
       "    text-align: left;\n",
       "  }\n",
       "</style><div class='table-result-container'><table class='table-result'><thead style='background-color: white'><tr><th>pos_site_id</th><th>sku_id</th><th>fsclwk_id</th><th>price_substate_id</th><th>type</th><th>total_sales_units</th><th>sales_dollars</th><th>discount_dollars</th><th>processed_date</th></tr></thead><tbody><tr><td>CATMAIN</td><td>2785140701</td><td>201801</td><td>FP</td><td>Sale</td><td>16</td><td>1108.7100000000003</td><td>10.49</td><td>2025-03-09T06:03:30.000+0000</td></tr><tr><td>177</td><td>1AV5420000</td><td>201801</td><td>MD2</td><td>Sale</td><td>9</td><td>49.890000000000015</td><td>39.93000000000001</td><td>2025-03-09T06:03:30.000+0000</td></tr></tbody></table></div>"
      ]
     },
     "metadata": {
      "application/vnd.databricks.v1+output": {
       "addedWidgets": {},
       "aggData": [],
       "aggError": "",
       "aggOverflow": false,
       "aggSchema": [],
       "aggSeriesLimitReached": false,
       "aggType": "",
       "arguments": {},
       "columnCustomDisplayInfos": {},
       "data": [
        [
         "CATMAIN",
         "2785140701",
         201801,
         "FP",
         "Sale",
         16,
         1108.7100000000003,
         10.49,
         "2025-03-09T06:03:30.000+0000"
        ],
        [
         "177",
         "1AV5420000",
         201801,
         "MD2",
         "Sale",
         9,
         49.890000000000015,
         39.93000000000001,
         "2025-03-09T06:03:30.000+0000"
        ]
       ],
       "datasetInfos": [],
       "dbfsResultPath": null,
       "isJsonSchema": true,
       "metadata": {},
       "overflow": false,
       "plotOptions": {
        "customPlotOptions": {},
        "displayType": "table",
        "pivotAggregation": null,
        "pivotColumns": null,
        "xColumns": null,
        "yColumns": null
       },
       "removedWidgets": [],
       "schema": [
        {
         "metadata": "{}",
         "name": "pos_site_id",
         "type": "\"string\""
        },
        {
         "metadata": "{}",
         "name": "sku_id",
         "type": "\"string\""
        },
        {
         "metadata": "{}",
         "name": "fsclwk_id",
         "type": "\"integer\""
        },
        {
         "metadata": "{}",
         "name": "price_substate_id",
         "type": "\"string\""
        },
        {
         "metadata": "{}",
         "name": "type",
         "type": "\"string\""
        },
        {
         "metadata": "{}",
         "name": "total_sales_units",
         "type": "\"long\""
        },
        {
         "metadata": "{}",
         "name": "sales_dollars",
         "type": "\"double\""
        },
        {
         "metadata": "{}",
         "name": "discount_dollars",
         "type": "\"double\""
        },
        {
         "metadata": "{}",
         "name": "processed_date",
         "type": "\"timestamp\""
        }
       ],
       "type": "table"
      }
     },
     "output_type": "display_data"
    }
   ],
   "source": [
    "display(df_mview_weekly_sales.limit(2))"
   ]
  },
  {
   "cell_type": "markdown",
   "metadata": {
    "application/vnd.databricks.v1+cell": {
     "cellMetadata": {},
     "inputWidgets": {},
     "nuid": "1ac6bb7a-1c63-41f0-8103-42803bb5dd52",
     "showTitle": false,
     "tableResultSettingsMap": {},
     "title": ""
    }
   },
   "source": [
    "### Weekly Sales Table to Delta"
   ]
  },
  {
   "cell_type": "code",
   "execution_count": 0,
   "metadata": {
    "application/vnd.databricks.v1+cell": {
     "cellMetadata": {
      "byteLimit": 2048000,
      "rowLimit": 10000
     },
     "inputWidgets": {},
     "nuid": "e1150d95-954f-4eb2-91cf-664241538482",
     "showTitle": false,
     "tableResultSettingsMap": {},
     "title": ""
    }
   },
   "outputs": [],
   "source": [
    "df_mview_weekly_sales.write.format(\"delta\").mode(\"overwrite\").option(\"overwriteSchema\", \"true\").saveAsTable(\"sales_db.weekly_sales\")"
   ]
  },
  {
   "cell_type": "code",
   "execution_count": 0,
   "metadata": {
    "application/vnd.databricks.v1+cell": {
     "cellMetadata": {
      "byteLimit": 2048000,
      "rowLimit": 10000
     },
     "inputWidgets": {},
     "nuid": "ffb5d7b2-e9c4-43f6-aede-d64592053a26",
     "showTitle": false,
     "tableResultSettingsMap": {},
     "title": ""
    }
   },
   "outputs": [
    {
     "output_type": "stream",
     "name": "stdout",
     "output_type": "stream",
     "text": [
      "Out[28]: 887849"
     ]
    }
   ],
   "source": [
    "df_mview_weekly_sales.count()"
   ]
  },
  {
   "cell_type": "markdown",
   "metadata": {
    "application/vnd.databricks.v1+cell": {
     "cellMetadata": {},
     "inputWidgets": {},
     "nuid": "51eff6d3-6435-4ab6-bad6-446a1393a3bf",
     "showTitle": false,
     "tableResultSettingsMap": {},
     "title": ""
    }
   },
   "source": [
    "### Incremental Data - New Rows"
   ]
  },
  {
   "cell_type": "code",
   "execution_count": 0,
   "metadata": {
    "application/vnd.databricks.v1+cell": {
     "cellMetadata": {
      "byteLimit": 2048000,
      "rowLimit": 10000
     },
     "inputWidgets": {},
     "nuid": "b8c9092d-5158-4d4a-bdae-26946af2e1b5",
     "showTitle": false,
     "tableResultSettingsMap": {},
     "title": ""
    }
   },
   "outputs": [
    {
     "output_type": "display_data",
     "data": {
      "text/html": [
       "<style scoped>\n",
       "  .table-result-container {\n",
       "    max-height: 300px;\n",
       "    overflow: auto;\n",
       "  }\n",
       "  table, th, td {\n",
       "    border: 1px solid black;\n",
       "    border-collapse: collapse;\n",
       "  }\n",
       "  th, td {\n",
       "    padding: 5px;\n",
       "  }\n",
       "  th {\n",
       "    text-align: left;\n",
       "  }\n",
       "</style><div class='table-result-container'><table class='table-result'><thead style='background-color: white'><tr><th>pos_site_id</th><th>sku_id</th><th>fsclwk_id</th><th>price_substate_id</th><th>type</th><th>total_sales_units</th><th>sales_dollars</th><th>discount_dollars</th><th>processed_date</th></tr></thead><tbody><tr><td>CATMAIN_NEW</td><td>2785140701</td><td>201801</td><td>FP</td><td>Sale</td><td>16</td><td>1108.71</td><td>10.49</td><td>2025-03-09T06:09:42.924+0000</td></tr><tr><td>177_NEW</td><td>1AV5420000</td><td>201801</td><td>MD2</td><td>Sale</td><td>9</td><td>49.89</td><td>39.93</td><td>2025-03-09T06:09:42.924+0000</td></tr></tbody></table></div>"
      ]
     },
     "metadata": {
      "application/vnd.databricks.v1+output": {
       "addedWidgets": {},
       "aggData": [],
       "aggError": "",
       "aggOverflow": false,
       "aggSchema": [],
       "aggSeriesLimitReached": false,
       "aggType": "",
       "arguments": {},
       "columnCustomDisplayInfos": {},
       "data": [
        [
         "CATMAIN_NEW",
         "2785140701",
         201801,
         "FP",
         "Sale",
         16,
         1108.71,
         10.49,
         "2025-03-09T06:09:42.924+0000"
        ],
        [
         "177_NEW",
         "1AV5420000",
         201801,
         "MD2",
         "Sale",
         9,
         49.89,
         39.93,
         "2025-03-09T06:09:42.924+0000"
        ]
       ],
       "datasetInfos": [],
       "dbfsResultPath": null,
       "isJsonSchema": true,
       "metadata": {},
       "overflow": false,
       "plotOptions": {
        "customPlotOptions": {},
        "displayType": "table",
        "pivotAggregation": null,
        "pivotColumns": null,
        "xColumns": null,
        "yColumns": null
       },
       "removedWidgets": [],
       "schema": [
        {
         "metadata": "{}",
         "name": "pos_site_id",
         "type": "\"string\""
        },
        {
         "metadata": "{}",
         "name": "sku_id",
         "type": "\"string\""
        },
        {
         "metadata": "{}",
         "name": "fsclwk_id",
         "type": "\"integer\""
        },
        {
         "metadata": "{}",
         "name": "price_substate_id",
         "type": "\"string\""
        },
        {
         "metadata": "{}",
         "name": "type",
         "type": "\"string\""
        },
        {
         "metadata": "{}",
         "name": "total_sales_units",
         "type": "\"long\""
        },
        {
         "metadata": "{}",
         "name": "sales_dollars",
         "type": "\"double\""
        },
        {
         "metadata": "{}",
         "name": "discount_dollars",
         "type": "\"double\""
        },
        {
         "metadata": "{}",
         "name": "processed_date",
         "type": "\"timestamp\""
        }
       ],
       "type": "table"
      }
     },
     "output_type": "display_data"
    }
   ],
   "source": [
    "from pyspark.sql.types import *\n",
    "schema = StructType([\n",
    "    StructField(\"pos_site_id\", StringType(), True),\n",
    "    StructField(\"sku_id\", StringType(), True),\n",
    "    StructField(\"fsclwk_id\", IntegerType(), True),\n",
    "    StructField(\"price_substate_id\", StringType(), True),\n",
    "    StructField(\"type\", StringType(), True),\n",
    "    StructField(\"total_sales_units\", LongType(), True),\n",
    "    StructField(\"sales_dollars\", DoubleType(), True),\n",
    "    StructField(\"discount_dollars\", DoubleType(), True),\n",
    "    StructField(\"processed_date\", TimestampType(), True)\n",
    "])\n",
    "data = [\n",
    "    (\"CATMAIN_NEW\", \"2785140701\", 201801, \"FP\", \"Sale\", 16, 1108.71, 10.49,datetime.now()),\n",
    "    (\"177_NEW\", \"1AV5420000\", 201801, \"MD2\", \"Sale\", 9, 49.89, 39.93,datetime.now())\n",
    "]\n",
    "df_inc_data = spark.createDataFrame(data, schema=schema)\n",
    "display(df_inc_data)"
   ]
  },
  {
   "cell_type": "code",
   "execution_count": 0,
   "metadata": {
    "application/vnd.databricks.v1+cell": {
     "cellMetadata": {
      "byteLimit": 2048000,
      "rowLimit": 10000
     },
     "inputWidgets": {},
     "nuid": "0c0a3227-8206-4ee6-8460-cdb7ced2d92e",
     "showTitle": false,
     "tableResultSettingsMap": {},
     "title": ""
    }
   },
   "outputs": [
    {
     "output_type": "stream",
     "name": "stdout",
     "output_type": "stream",
     "text": [
      "Out[25]: 2"
     ]
    }
   ],
   "source": [
    "df_inc_data.count()"
   ]
  },
  {
   "cell_type": "markdown",
   "metadata": {
    "application/vnd.databricks.v1+cell": {
     "cellMetadata": {},
     "inputWidgets": {},
     "nuid": "31db5144-224c-4a44-9dad-78e0a7087983",
     "showTitle": false,
     "tableResultSettingsMap": {},
     "title": ""
    }
   },
   "source": [
    "### Incremental Data - Updated Rows"
   ]
  },
  {
   "cell_type": "code",
   "execution_count": 0,
   "metadata": {
    "application/vnd.databricks.v1+cell": {
     "cellMetadata": {
      "byteLimit": 2048000,
      "rowLimit": 10000
     },
     "inputWidgets": {},
     "nuid": "64687ba6-4d61-4289-8334-b46b290f6bd6",
     "showTitle": false,
     "tableResultSettingsMap": {},
     "title": ""
    }
   },
   "outputs": [
    {
     "output_type": "display_data",
     "data": {
      "text/html": [
       "<style scoped>\n",
       "  .table-result-container {\n",
       "    max-height: 300px;\n",
       "    overflow: auto;\n",
       "  }\n",
       "  table, th, td {\n",
       "    border: 1px solid black;\n",
       "    border-collapse: collapse;\n",
       "  }\n",
       "  th, td {\n",
       "    padding: 5px;\n",
       "  }\n",
       "  th {\n",
       "    text-align: left;\n",
       "  }\n",
       "</style><div class='table-result-container'><table class='table-result'><thead style='background-color: white'><tr><th>pos_site_id</th><th>sku_id</th><th>fsclwk_id</th><th>price_substate_id</th><th>type</th><th>total_sales_units</th><th>sales_dollars</th><th>discount_dollars</th><th>processed_date</th></tr></thead><tbody><tr><td>CATMAIN</td><td>2870720701</td><td>201801</td><td>FP</td><td>Cancel</td><td>2</td><td>129.9</td><td>0.0</td><td>2025-03-09T06:03:30.000+0000</td></tr><tr><td>CATMAIN</td><td>2870720601</td><td>201801</td><td>FP</td><td>Cancel</td><td>3</td><td>194.85000000000002</td><td>0.0</td><td>2025-03-09T06:03:30.000+0000</td></tr></tbody></table></div>"
      ]
     },
     "metadata": {
      "application/vnd.databricks.v1+output": {
       "addedWidgets": {},
       "aggData": [],
       "aggError": "",
       "aggOverflow": false,
       "aggSchema": [],
       "aggSeriesLimitReached": false,
       "aggType": "",
       "arguments": {},
       "columnCustomDisplayInfos": {},
       "data": [
        [
         "CATMAIN",
         "2870720701",
         201801,
         "FP",
         "Cancel",
         2,
         129.9,
         0.0,
         "2025-03-09T06:03:30.000+0000"
        ],
        [
         "CATMAIN",
         "2870720601",
         201801,
         "FP",
         "Cancel",
         3,
         194.85000000000002,
         0.0,
         "2025-03-09T06:03:30.000+0000"
        ]
       ],
       "datasetInfos": [],
       "dbfsResultPath": null,
       "isJsonSchema": true,
       "metadata": {},
       "overflow": false,
       "plotOptions": {
        "customPlotOptions": {},
        "displayType": "table",
        "pivotAggregation": null,
        "pivotColumns": null,
        "xColumns": null,
        "yColumns": null
       },
       "removedWidgets": [],
       "schema": [
        {
         "metadata": "{}",
         "name": "pos_site_id",
         "type": "\"string\""
        },
        {
         "metadata": "{}",
         "name": "sku_id",
         "type": "\"string\""
        },
        {
         "metadata": "{}",
         "name": "fsclwk_id",
         "type": "\"integer\""
        },
        {
         "metadata": "{}",
         "name": "price_substate_id",
         "type": "\"string\""
        },
        {
         "metadata": "{}",
         "name": "type",
         "type": "\"string\""
        },
        {
         "metadata": "{}",
         "name": "total_sales_units",
         "type": "\"long\""
        },
        {
         "metadata": "{}",
         "name": "sales_dollars",
         "type": "\"double\""
        },
        {
         "metadata": "{}",
         "name": "discount_dollars",
         "type": "\"double\""
        },
        {
         "metadata": "{}",
         "name": "processed_date",
         "type": "\"timestamp\""
        }
       ],
       "type": "table"
      }
     },
     "output_type": "display_data"
    }
   ],
   "source": [
    "df_inc_mview_weekly_sales = (\n",
    "    df_transactions.limit(10000).alias(\"t\")\n",
    "    .join(\n",
    "        df_calendar.limit(1000).alias(\"c\"),\n",
    "        df_transactions.fscldt_id == df_calendar.fscldt_id,\n",
    "        \"inner\",\n",
    "    )\n",
    "    .groupby(\n",
    "        \"t.pos_site_id\",\n",
    "        \"t.sku_id\",\n",
    "        \"c.fsclwk_id\",\n",
    "        \"t.price_substate_id\",\n",
    "        \"t.type\",\n",
    "    )\n",
    "    .agg(\n",
    "        F.sum(\"t.sales_units\").alias(\"total_sales_units\"),\n",
    "        F.sum(\"t.sales_dollars\").alias(\"sales_dollars\"),\n",
    "        F.sum(\"t.discount_dollars\").alias(\"discount_dollars\"),\n",
    "    )\n",
    "    .withColumn(\"processed_date\", F.lit(processed_date).cast(ty.TimestampType())) \n",
    ")\n",
    "display(df_inc_mview_weekly_sales.limit(2))"
   ]
  },
  {
   "cell_type": "code",
   "execution_count": 0,
   "metadata": {
    "application/vnd.databricks.v1+cell": {
     "cellMetadata": {
      "byteLimit": 2048000,
      "rowLimit": 10000
     },
     "inputWidgets": {},
     "nuid": "b18cee4b-afce-4dfd-a9e4-90081fadad3a",
     "showTitle": false,
     "tableResultSettingsMap": {},
     "title": ""
    }
   },
   "outputs": [
    {
     "output_type": "stream",
     "name": "stdout",
     "output_type": "stream",
     "text": [
      "Out[14]: 1001"
     ]
    }
   ],
   "source": [
    "df_inc_mview_weekly_sales.count()"
   ]
  },
  {
   "cell_type": "markdown",
   "metadata": {
    "application/vnd.databricks.v1+cell": {
     "cellMetadata": {},
     "inputWidgets": {},
     "nuid": "acc26dcc-df45-4f22-a8bf-8944ce896f98",
     "showTitle": false,
     "tableResultSettingsMap": {},
     "title": ""
    }
   },
   "source": [
    "### Merge Logic for Incremental Data"
   ]
  },
  {
   "cell_type": "code",
   "execution_count": 0,
   "metadata": {
    "application/vnd.databricks.v1+cell": {
     "cellMetadata": {
      "byteLimit": 2048000,
      "rowLimit": 10000
     },
     "inputWidgets": {},
     "nuid": "966f3cd7-ad02-4db2-b5a3-e8bcde44f691",
     "showTitle": false,
     "tableResultSettingsMap": {},
     "title": ""
    }
   },
   "outputs": [],
   "source": [
    "from delta.tables import DeltaTable\n",
    "delta_table = DeltaTable.forName(spark, \"sales_db.weekly_sales\")"
   ]
  },
  {
   "cell_type": "code",
   "execution_count": 0,
   "metadata": {
    "application/vnd.databricks.v1+cell": {
     "cellMetadata": {
      "byteLimit": 2048000,
      "rowLimit": 10000
     },
     "inputWidgets": {},
     "nuid": "6b18af36-65dd-4770-a121-0549320f7da8",
     "showTitle": false,
     "tableResultSettingsMap": {},
     "title": ""
    }
   },
   "outputs": [],
   "source": [
    "delta_table.alias(\"target\").merge(\n",
    "    df_inc_data.alias(\"source\"),\n",
    "    \"target.pos_site_id = source.pos_site_id AND target.sku_id = source.sku_id AND target.fsclwk_id = source.fsclwk_id\"\n",
    ").whenMatchedUpdate(set={\n",
    "    \"total_sales_units\": \"source.total_sales_units\",\n",
    "    \"sales_dollars\": \"source.sales_dollars\",\n",
    "    \"discount_dollars\": \"source.discount_dollars\",\n",
    "    \"processed_date\": \"source.processed_date\"\n",
    "}).whenNotMatchedInsert(values={\n",
    "    \"pos_site_id\": \"source.pos_site_id\",\n",
    "    \"sku_id\": \"source.sku_id\",\n",
    "    \"fsclwk_id\": \"source.fsclwk_id\",\n",
    "    \"price_substate_id\": \"source.price_substate_id\",\n",
    "    \"type\": \"source.type\",\n",
    "    \"total_sales_units\": \"source.total_sales_units\",\n",
    "    \"sales_dollars\": \"source.sales_dollars\",\n",
    "    \"discount_dollars\": \"source.discount_dollars\",\n",
    "    \"processed_date\": \"source.processed_date\"\n",
    "}).execute()"
   ]
  },
  {
   "cell_type": "code",
   "execution_count": 0,
   "metadata": {
    "application/vnd.databricks.v1+cell": {
     "cellMetadata": {
      "byteLimit": 2048000,
      "rowLimit": 10000
     },
     "inputWidgets": {},
     "nuid": "f77fa244-78bd-4198-bacf-6d4b9902ab7f",
     "showTitle": false,
     "tableResultSettingsMap": {},
     "title": ""
    }
   },
   "outputs": [],
   "source": [
    "delta_table.alias(\"target\").merge(\n",
    "    df_inc_mview_weekly_sales.alias(\"source\"),\n",
    "    \"target.pos_site_id = source.pos_site_id AND target.sku_id = source.sku_id AND target.fsclwk_id = source.fsclwk_id\"\n",
    ").whenMatchedUpdate(set={\n",
    "    \"total_sales_units\": \"source.total_sales_units\",\n",
    "    \"sales_dollars\": \"source.sales_dollars\",\n",
    "    \"discount_dollars\": \"source.discount_dollars\",\n",
    "    \"processed_date\": \"source.processed_date\"\n",
    "}).whenNotMatchedInsert(values={\n",
    "    \"pos_site_id\": \"source.pos_site_id\",\n",
    "    \"sku_id\": \"source.sku_id\",\n",
    "    \"fsclwk_id\": \"source.fsclwk_id\",\n",
    "    \"price_substate_id\": \"source.price_substate_id\",\n",
    "    \"type\": \"source.type\",\n",
    "    \"total_sales_units\": \"source.total_sales_units\",\n",
    "    \"sales_dollars\": \"source.sales_dollars\",\n",
    "    \"discount_dollars\": \"source.discount_dollars\",\n",
    "    \"processed_date\": \"source.processed_date\"\n",
    "}).execute()"
   ]
  },
  {
   "cell_type": "markdown",
   "metadata": {
    "application/vnd.databricks.v1+cell": {
     "cellMetadata": {},
     "inputWidgets": {},
     "nuid": "0f4fac6c-d8bf-455f-a08b-607e2870725a",
     "showTitle": false,
     "tableResultSettingsMap": {},
     "title": ""
    }
   },
   "source": [
    "### Check Incremetal Data Load in Delta Table"
   ]
  },
  {
   "cell_type": "code",
   "execution_count": 0,
   "metadata": {
    "application/vnd.databricks.v1+cell": {
     "cellMetadata": {
      "byteLimit": 2048000,
      "rowLimit": 10000
     },
     "inputWidgets": {},
     "nuid": "580741aa-ce61-4ebe-abe9-a619f703aa9d",
     "showTitle": false,
     "tableResultSettingsMap": {},
     "title": ""
    }
   },
   "outputs": [
    {
     "output_type": "stream",
     "name": "stdout",
     "output_type": "stream",
     "text": [
      "Out[34]: 887851"
     ]
    }
   ],
   "source": [
    "df_test = spark.read.format(\"delta\").table(\"sales_db.weekly_sales\")\n",
    "df_test.count()\n",
    "# Before Incremental Data\n",
    "#: 887849\n",
    "# After Incremental Data\n",
    "#: 887851"
   ]
  },
  {
   "cell_type": "markdown",
   "metadata": {
    "application/vnd.databricks.v1+cell": {
     "cellMetadata": {},
     "inputWidgets": {},
     "nuid": "a73bed1e-1776-4426-ab45-559d6f1c65e0",
     "showTitle": false,
     "tableResultSettingsMap": {},
     "title": ""
    }
   },
   "source": [
    "### Dump"
   ]
  },
  {
   "cell_type": "code",
   "execution_count": 0,
   "metadata": {
    "application/vnd.databricks.v1+cell": {
     "cellMetadata": {},
     "inputWidgets": {},
     "nuid": "05c6f7d0-99a0-4219-a1af-dd74083bc32a",
     "showTitle": false,
     "tableResultSettingsMap": {},
     "title": ""
    }
   },
   "outputs": [],
   "source": [
    "# df_transactions.select('pos_site_id').distinct().show()\n",
    "# from pyspark.sql.types import *\n",
    "# schema_string = \"\"\"\n",
    "#     pos_site_id STRING,\n",
    "#     sku_id STRING,\n",
    "#     fsclwk_id INTEGER,\n",
    "#     price_substate_id STRING,\n",
    "#     type STRING,\n",
    "#     total_sales_units LONG,\n",
    "#     sales_dollars DOUBLE,\n",
    "#     discount_dollars DOUBLE\n",
    "# \"\"\"\n",
    "# schema = StructType.fromDDL(schema_string)\n",
    "# print(schema)"
   ]
  }
 ],
 "metadata": {
  "application/vnd.databricks.v1+notebook": {
   "computePreferences": null,
   "dashboards": [],
   "environmentMetadata": {
    "base_environment": "",
    "client": "1"
   },
   "language": "python",
   "notebookMetadata": {
    "pythonIndentUnit": 4
   },
   "notebookName": "Data_Processing",
   "widgets": {}
  }
 },
 "nbformat": 4,
 "nbformat_minor": 0
}
