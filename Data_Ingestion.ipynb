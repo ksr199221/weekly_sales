{
 "cells": [
  {
   "cell_type": "markdown",
   "metadata": {
    "application/vnd.databricks.v1+cell": {
     "cellMetadata": {},
     "inputWidgets": {},
     "nuid": "5a8dcac5-55ac-4417-968e-88e5e5bb72a9",
     "showTitle": false,
     "tableResultSettingsMap": {},
     "title": ""
    }
   },
   "source": [
    "## Tables on a High Level\n",
    "### Facts:\n",
    "-- Transactions 69 MB\n",
    "\n",
    "-- Average Costs 2 MB\n",
    "\n",
    "### Dim:\n",
    "-- rtloc 1 KB\n",
    "\n",
    "-- prod 27 KB\n",
    "\n",
    "-- pricestate 113 B\n",
    "\n",
    "-- possite 1 KB\n",
    "\n",
    "-- invstatus 3 KB\n",
    "\n",
    "-- invloc 1 KB\n",
    "\n",
    "-- hldy 297 B\n",
    "\n",
    "-- clnd 34 KB"
   ]
  },
  {
   "cell_type": "markdown",
   "metadata": {
    "application/vnd.databricks.v1+cell": {
     "cellMetadata": {},
     "inputWidgets": {},
     "nuid": "6e6ee517-eab7-488f-8400-a7b0ff0c005b",
     "showTitle": false,
     "tableResultSettingsMap": {},
     "title": ""
    }
   },
   "source": [
    "## Checking DBFS"
   ]
  },
  {
   "cell_type": "code",
   "execution_count": 0,
   "metadata": {
    "application/vnd.databricks.v1+cell": {
     "cellMetadata": {
      "byteLimit": 2048000,
      "rowLimit": 10000
     },
     "inputWidgets": {},
     "nuid": "7c6b570a-d67f-4912-ac9d-28303009149a",
     "showTitle": false,
     "tableResultSettingsMap": {},
     "title": ""
    }
   },
   "outputs": [
    {
     "output_type": "stream",
     "name": "stdout",
     "output_type": "stream",
     "text": [
      "Out[5]: [FileInfo(path='dbfs:/FileStore/', name='FileStore/', size=0, modificationTime=0),\n FileInfo(path='dbfs:/databricks-datasets/', name='databricks-datasets/', size=0, modificationTime=0),\n FileInfo(path='dbfs:/databricks-results/', name='databricks-results/', size=0, modificationTime=0)]"
     ]
    }
   ],
   "source": [
    "dbutils.fs.ls('/')"
   ]
  },
  {
   "cell_type": "markdown",
   "metadata": {
    "application/vnd.databricks.v1+cell": {
     "cellMetadata": {},
     "inputWidgets": {},
     "nuid": "ac926b12-3b6d-4332-9826-81b898ae7846",
     "showTitle": false,
     "tableResultSettingsMap": {},
     "title": ""
    }
   },
   "source": [
    "## Uploaded files to DBFS"
   ]
  },
  {
   "cell_type": "code",
   "execution_count": 0,
   "metadata": {
    "application/vnd.databricks.v1+cell": {
     "cellMetadata": {
      "byteLimit": 2048000,
      "rowLimit": 10000
     },
     "inputWidgets": {},
     "nuid": "9a03c26d-5a5d-405d-b7fc-fb6b147dbf7a",
     "showTitle": false,
     "tableResultSettingsMap": {},
     "title": ""
    }
   },
   "outputs": [
    {
     "output_type": "stream",
     "name": "stdout",
     "output_type": "stream",
     "text": [
      "Out[8]: [FileInfo(path='dbfs:/FileStore/shared_uploads/ksivareddy1997@gmail.com/fact_averagecosts_dlm.gz', name='fact_averagecosts_dlm.gz', size=2219727, modificationTime=1741431178000),\n FileInfo(path='dbfs:/FileStore/shared_uploads/ksivareddy1997@gmail.com/fact_transactions_dlm.gz', name='fact_transactions_dlm.gz', size=72346794, modificationTime=1741431202000),\n FileInfo(path='dbfs:/FileStore/shared_uploads/ksivareddy1997@gmail.com/hier_clnd_dlm.gz', name='hier_clnd_dlm.gz', size=35281, modificationTime=1741431179000),\n FileInfo(path='dbfs:/FileStore/shared_uploads/ksivareddy1997@gmail.com/hier_hldy_dlm.gz', name='hier_hldy_dlm.gz', size=297, modificationTime=1741431180000),\n FileInfo(path='dbfs:/FileStore/shared_uploads/ksivareddy1997@gmail.com/hier_invloc_dlm.gz', name='hier_invloc_dlm.gz', size=1047, modificationTime=1741431181000),\n FileInfo(path='dbfs:/FileStore/shared_uploads/ksivareddy1997@gmail.com/hier_invstatus_dlm.gz', name='hier_invstatus_dlm.gz', size=2929, modificationTime=1741431182000),\n FileInfo(path='dbfs:/FileStore/shared_uploads/ksivareddy1997@gmail.com/hier_possite_dlm.gz', name='hier_possite_dlm.gz', size=1208, modificationTime=1741431182000),\n FileInfo(path='dbfs:/FileStore/shared_uploads/ksivareddy1997@gmail.com/hier_pricestate_dlm.gz', name='hier_pricestate_dlm.gz', size=113, modificationTime=1741431183000),\n FileInfo(path='dbfs:/FileStore/shared_uploads/ksivareddy1997@gmail.com/hier_prod_dlm.gz', name='hier_prod_dlm.gz', size=27564, modificationTime=1741431184000),\n FileInfo(path='dbfs:/FileStore/shared_uploads/ksivareddy1997@gmail.com/hier_rtlloc_dlm.gz', name='hier_rtlloc_dlm.gz', size=1215, modificationTime=1741431185000)]"
     ]
    }
   ],
   "source": [
    "dbutils.fs.ls('dbfs:/FileStore/shared_uploads/ksivareddy1997@gmail.com')"
   ]
  },
  {
   "cell_type": "code",
   "execution_count": 0,
   "metadata": {
    "application/vnd.databricks.v1+cell": {
     "cellMetadata": {
      "byteLimit": 2048000,
      "rowLimit": 10000
     },
     "inputWidgets": {},
     "nuid": "b109d586-0d2c-4833-bcd4-fff24cd106f0",
     "showTitle": false,
     "tableResultSettingsMap": {},
     "title": ""
    }
   },
   "outputs": [],
   "source": [
    "from pyspark.sql.functions import *\n",
    "options = {\n",
    "    \"delimiter\": \"|\", \n",
    "    \"inferSchema\": \"true\",\n",
    "    \"header\": \"true\"\n",
    "}"
   ]
  },
  {
   "cell_type": "markdown",
   "metadata": {
    "application/vnd.databricks.v1+cell": {
     "cellMetadata": {},
     "inputWidgets": {},
     "nuid": "9371212c-5144-43ce-b63a-6eedcf415658",
     "showTitle": false,
     "tableResultSettingsMap": {},
     "title": ""
    }
   },
   "source": [
    "## Reading Fact Tables and Inferring Schema"
   ]
  },
  {
   "cell_type": "code",
   "execution_count": 0,
   "metadata": {
    "application/vnd.databricks.v1+cell": {
     "cellMetadata": {
      "byteLimit": 2048000,
      "rowLimit": 10000
     },
     "inputWidgets": {},
     "nuid": "c3f592da-861e-47c5-bc9a-339f323fccdf",
     "showTitle": false,
     "tableResultSettingsMap": {},
     "title": ""
    }
   },
   "outputs": [
    {
     "output_type": "stream",
     "name": "stdout",
     "output_type": "stream",
     "text": [
      "root\n |-- fscldt_id: integer (nullable = true)\n |-- sku_id: string (nullable = true)\n |-- average_unit_standardcost: double (nullable = true)\n |-- average_unit_landedcost: double (nullable = true)\n\nNone\n"
     ]
    },
    {
     "output_type": "display_data",
     "data": {
      "text/html": [
       "<style scoped>\n",
       "  .table-result-container {\n",
       "    max-height: 300px;\n",
       "    overflow: auto;\n",
       "  }\n",
       "  table, th, td {\n",
       "    border: 1px solid black;\n",
       "    border-collapse: collapse;\n",
       "  }\n",
       "  th, td {\n",
       "    padding: 5px;\n",
       "  }\n",
       "  th {\n",
       "    text-align: left;\n",
       "  }\n",
       "</style><div class='table-result-container'><table class='table-result'><thead style='background-color: white'><tr><th>fscldt_id</th><th>sku_id</th><th>average_unit_standardcost</th><th>average_unit_landedcost</th></tr></thead><tbody><tr><td>20160131</td><td>0174410000</td><td>10.06</td><td>10.06</td></tr><tr><td>20160201</td><td>0174410000</td><td>10.06</td><td>10.06</td></tr></tbody></table></div>"
      ]
     },
     "metadata": {
      "application/vnd.databricks.v1+output": {
       "addedWidgets": {},
       "aggData": [],
       "aggError": "",
       "aggOverflow": false,
       "aggSchema": [],
       "aggSeriesLimitReached": false,
       "aggType": "",
       "arguments": {},
       "columnCustomDisplayInfos": {},
       "data": [
        [
         20160131,
         "0174410000",
         10.06,
         10.06
        ],
        [
         20160201,
         "0174410000",
         10.06,
         10.06
        ]
       ],
       "datasetInfos": [],
       "dbfsResultPath": null,
       "isJsonSchema": true,
       "metadata": {},
       "overflow": false,
       "plotOptions": {
        "customPlotOptions": {},
        "displayType": "table",
        "pivotAggregation": null,
        "pivotColumns": null,
        "xColumns": null,
        "yColumns": null
       },
       "removedWidgets": [],
       "schema": [
        {
         "metadata": "{}",
         "name": "fscldt_id",
         "type": "\"integer\""
        },
        {
         "metadata": "{}",
         "name": "sku_id",
         "type": "\"string\""
        },
        {
         "metadata": "{}",
         "name": "average_unit_standardcost",
         "type": "\"double\""
        },
        {
         "metadata": "{}",
         "name": "average_unit_landedcost",
         "type": "\"double\""
        }
       ],
       "type": "table"
      }
     },
     "output_type": "display_data"
    }
   ],
   "source": [
    "df_average_costs= spark.read.format(\"csv\").options(**options).load(\"dbfs:/FileStore/shared_uploads/ksivareddy1997@gmail.com/fact_averagecosts_dlm.gz\")\n",
    "print(df_average_costs.printSchema())\n",
    "display(df_average_costs.limit(2))"
   ]
  },
  {
   "cell_type": "code",
   "execution_count": 0,
   "metadata": {
    "application/vnd.databricks.v1+cell": {
     "cellMetadata": {
      "byteLimit": 2048000,
      "rowLimit": 10000
     },
     "inputWidgets": {},
     "nuid": "e807c864-1e0e-478f-9886-1fbcfc3dd1ce",
     "showTitle": false,
     "tableResultSettingsMap": {},
     "title": ""
    }
   },
   "outputs": [
    {
     "output_type": "stream",
     "name": "stdout",
     "output_type": "stream",
     "text": [
      "0\n740805\n740805\n"
     ]
    }
   ],
   "source": [
    "# Null, Uniqueness on Pkey\n",
    "null_count=df_average_costs.filter(col(\"fscldt_id\").isNull()).count()\n",
    "print(null_count)\n",
    "print(df_average_costs.count())\n",
    "print(df_average_costs.select(countDistinct(\"fscldt_id\",\"sku_id\")).collect()[0][0])"
   ]
  },
  {
   "cell_type": "code",
   "execution_count": 0,
   "metadata": {
    "application/vnd.databricks.v1+cell": {
     "cellMetadata": {
      "byteLimit": 2048000,
      "rowLimit": 10000
     },
     "inputWidgets": {},
     "nuid": "92532e91-abac-4854-a367-5d274eb888c5",
     "showTitle": false,
     "tableResultSettingsMap": {},
     "title": ""
    }
   },
   "outputs": [
    {
     "output_type": "stream",
     "name": "stdout",
     "output_type": "stream",
     "text": [
      "root\n |-- order_id: long (nullable = true)\n |-- line_id: integer (nullable = true)\n |-- type: string (nullable = true)\n |-- dt: timestamp (nullable = true)\n |-- pos_site_id: string (nullable = true)\n |-- sku_id: string (nullable = true)\n |-- fscldt_id: integer (nullable = true)\n |-- price_substate_id: string (nullable = true)\n |-- sales_units: integer (nullable = true)\n |-- sales_dollars: double (nullable = true)\n |-- discount_dollars: double (nullable = true)\n |-- original_order_id: long (nullable = true)\n |-- original_line_id: integer (nullable = true)\n\nNone\n"
     ]
    },
    {
     "output_type": "display_data",
     "data": {
      "text/html": [
       "<style scoped>\n",
       "  .table-result-container {\n",
       "    max-height: 300px;\n",
       "    overflow: auto;\n",
       "  }\n",
       "  table, th, td {\n",
       "    border: 1px solid black;\n",
       "    border-collapse: collapse;\n",
       "  }\n",
       "  th, td {\n",
       "    padding: 5px;\n",
       "  }\n",
       "  th {\n",
       "    text-align: left;\n",
       "  }\n",
       "</style><div class='table-result-container'><table class='table-result'><thead style='background-color: white'><tr><th>order_id</th><th>line_id</th><th>type</th><th>dt</th><th>pos_site_id</th><th>sku_id</th><th>fscldt_id</th><th>price_substate_id</th><th>sales_units</th><th>sales_dollars</th><th>discount_dollars</th><th>original_order_id</th><th>original_line_id</th></tr></thead><tbody><tr><td>164087401</td><td>2</td><td>Sale</td><td>2016-01-31T06:17:01.000+0000</td><td>CATMAIN</td><td>2668940801</td><td>20160131</td><td>FP</td><td>1</td><td>58.95</td><td>0.0</td><td>null</td><td>null</td></tr><tr><td>164087409</td><td>4</td><td>Sale</td><td>2016-01-31T06:17:25.000+0000</td><td>CATMAIN</td><td>2920920601</td><td>20160131</td><td>FP</td><td>1</td><td>49.95</td><td>0.0</td><td>null</td><td>null</td></tr></tbody></table></div>"
      ]
     },
     "metadata": {
      "application/vnd.databricks.v1+output": {
       "addedWidgets": {},
       "aggData": [],
       "aggError": "",
       "aggOverflow": false,
       "aggSchema": [],
       "aggSeriesLimitReached": false,
       "aggType": "",
       "arguments": {},
       "columnCustomDisplayInfos": {},
       "data": [
        [
         164087401,
         2,
         "Sale",
         "2016-01-31T06:17:01.000+0000",
         "CATMAIN",
         "2668940801",
         20160131,
         "FP",
         1,
         58.95,
         0.0,
         null,
         null
        ],
        [
         164087409,
         4,
         "Sale",
         "2016-01-31T06:17:25.000+0000",
         "CATMAIN",
         "2920920601",
         20160131,
         "FP",
         1,
         49.95,
         0.0,
         null,
         null
        ]
       ],
       "datasetInfos": [],
       "dbfsResultPath": null,
       "isJsonSchema": true,
       "metadata": {},
       "overflow": false,
       "plotOptions": {
        "customPlotOptions": {},
        "displayType": "table",
        "pivotAggregation": null,
        "pivotColumns": null,
        "xColumns": null,
        "yColumns": null
       },
       "removedWidgets": [],
       "schema": [
        {
         "metadata": "{}",
         "name": "order_id",
         "type": "\"long\""
        },
        {
         "metadata": "{}",
         "name": "line_id",
         "type": "\"integer\""
        },
        {
         "metadata": "{}",
         "name": "type",
         "type": "\"string\""
        },
        {
         "metadata": "{}",
         "name": "dt",
         "type": "\"timestamp\""
        },
        {
         "metadata": "{}",
         "name": "pos_site_id",
         "type": "\"string\""
        },
        {
         "metadata": "{}",
         "name": "sku_id",
         "type": "\"string\""
        },
        {
         "metadata": "{}",
         "name": "fscldt_id",
         "type": "\"integer\""
        },
        {
         "metadata": "{}",
         "name": "price_substate_id",
         "type": "\"string\""
        },
        {
         "metadata": "{}",
         "name": "sales_units",
         "type": "\"integer\""
        },
        {
         "metadata": "{}",
         "name": "sales_dollars",
         "type": "\"double\""
        },
        {
         "metadata": "{}",
         "name": "discount_dollars",
         "type": "\"double\""
        },
        {
         "metadata": "{}",
         "name": "original_order_id",
         "type": "\"long\""
        },
        {
         "metadata": "{}",
         "name": "original_line_id",
         "type": "\"integer\""
        }
       ],
       "type": "table"
      }
     },
     "output_type": "display_data"
    }
   ],
   "source": [
    "df_transcations= spark.read.format(\"csv\").options(**options).load(\"dbfs:/FileStore/shared_uploads/ksivareddy1997@gmail.com/fact_transactions_dlm.gz\")\n",
    "print(df_transcations.printSchema())\n",
    "display(df_transcations.limit(2))"
   ]
  },
  {
   "cell_type": "code",
   "execution_count": 0,
   "metadata": {
    "application/vnd.databricks.v1+cell": {
     "cellMetadata": {
      "byteLimit": 2048000,
      "rowLimit": 10000
     },
     "inputWidgets": {},
     "nuid": "eb734906-5a4c-49a1-9304-e9e0a609ab6e",
     "showTitle": false,
     "tableResultSettingsMap": {},
     "title": ""
    }
   },
   "outputs": [
    {
     "output_type": "stream",
     "name": "stdout",
     "output_type": "stream",
     "text": [
      "0\n4503108\n4502440\n"
     ]
    }
   ],
   "source": [
    "null_count=df_transcations.filter(col(\"order_id\").isNull()).count()\n",
    "print(null_count)\n",
    "print(df_transcations.count())\n",
    "print(df_transcations.select(countDistinct(\"order_id\",\"line_id\",\"type\",\"dt\",\"pos_site_id\",\"sku_id\",\"fscldt_id\",\"price_substate_id\")).collect()[0][0])"
   ]
  },
  {
   "cell_type": "markdown",
   "metadata": {
    "application/vnd.databricks.v1+cell": {
     "cellMetadata": {},
     "inputWidgets": {},
     "nuid": "e972018e-8aea-4137-8e6f-8aa0f09139da",
     "showTitle": false,
     "tableResultSettingsMap": {},
     "title": ""
    }
   },
   "source": [
    "## Reading Dimensions and Inferring Schema"
   ]
  },
  {
   "cell_type": "code",
   "execution_count": 0,
   "metadata": {
    "application/vnd.databricks.v1+cell": {
     "cellMetadata": {
      "byteLimit": 2048000,
      "rowLimit": 10000
     },
     "inputWidgets": {},
     "nuid": "98ed615b-1c8e-4b06-8a8d-5283d8385e9f",
     "showTitle": false,
     "tableResultSettingsMap": {},
     "title": ""
    }
   },
   "outputs": [
    {
     "output_type": "stream",
     "name": "stdout",
     "output_type": "stream",
     "text": [
      "root\n |-- fscldt_id: integer (nullable = true)\n |-- fscldt_label: string (nullable = true)\n |-- fsclwk_id: integer (nullable = true)\n |-- fsclwk_label: string (nullable = true)\n |-- fsclmth_id: integer (nullable = true)\n |-- fsclmth_label: string (nullable = true)\n |-- fsclqrtr_id: integer (nullable = true)\n |-- fsclqrtr_label: string (nullable = true)\n |-- fsclyr_id: integer (nullable = true)\n |-- fsclyr_label: integer (nullable = true)\n |-- ssn_id: string (nullable = true)\n |-- ssn_label: string (nullable = true)\n |-- ly_fscldt_id: integer (nullable = true)\n |-- lly_fscldt_id: integer (nullable = true)\n |-- fscldow: integer (nullable = true)\n |-- fscldom: integer (nullable = true)\n |-- fscldoq: integer (nullable = true)\n |-- fscldoy: integer (nullable = true)\n |-- fsclwoy: integer (nullable = true)\n |-- fsclmoy: integer (nullable = true)\n |-- fsclqoy: integer (nullable = true)\n |-- date: date (nullable = true)\n\nNone\n"
     ]
    },
    {
     "output_type": "display_data",
     "data": {
      "text/html": [
       "<style scoped>\n",
       "  .table-result-container {\n",
       "    max-height: 300px;\n",
       "    overflow: auto;\n",
       "  }\n",
       "  table, th, td {\n",
       "    border: 1px solid black;\n",
       "    border-collapse: collapse;\n",
       "  }\n",
       "  th, td {\n",
       "    padding: 5px;\n",
       "  }\n",
       "  th {\n",
       "    text-align: left;\n",
       "  }\n",
       "</style><div class='table-result-container'><table class='table-result'><thead style='background-color: white'><tr><th>fscldt_id</th><th>fscldt_label</th><th>fsclwk_id</th><th>fsclwk_label</th><th>fsclmth_id</th><th>fsclmth_label</th><th>fsclqrtr_id</th><th>fsclqrtr_label</th><th>fsclyr_id</th><th>fsclyr_label</th><th>ssn_id</th><th>ssn_label</th><th>ly_fscldt_id</th><th>lly_fscldt_id</th><th>fscldow</th><th>fscldom</th><th>fscldoq</th><th>fscldoy</th><th>fsclwoy</th><th>fsclmoy</th><th>fsclqoy</th><th>date</th></tr></thead><tbody><tr><td>20180204</td><td>Feb 4, 2018</td><td>201801</td><td>WK 01, 2018</td><td>201801</td><td>Feb, 2018</td><td>20181</td><td>Q1, 2018</td><td>2018</td><td>2018</td><td>SPRG2018</td><td>Spring 2018</td><td>20170205</td><td>20160207</td><td>1</td><td>1</td><td>1</td><td>1</td><td>1</td><td>1</td><td>1</td><td>2018-02-04</td></tr><tr><td>20180205</td><td>Feb 5, 2018</td><td>201801</td><td>WK 01, 2018</td><td>201801</td><td>Feb, 2018</td><td>20181</td><td>Q1, 2018</td><td>2018</td><td>2018</td><td>SPRG2018</td><td>Spring 2018</td><td>20170206</td><td>20160208</td><td>2</td><td>2</td><td>2</td><td>2</td><td>1</td><td>1</td><td>1</td><td>2018-02-05</td></tr></tbody></table></div>"
      ]
     },
     "metadata": {
      "application/vnd.databricks.v1+output": {
       "addedWidgets": {},
       "aggData": [],
       "aggError": "",
       "aggOverflow": false,
       "aggSchema": [],
       "aggSeriesLimitReached": false,
       "aggType": "",
       "arguments": {},
       "columnCustomDisplayInfos": {},
       "data": [
        [
         20180204,
         "Feb 4, 2018",
         201801,
         "WK 01, 2018",
         201801,
         "Feb, 2018",
         20181,
         "Q1, 2018",
         2018,
         2018,
         "SPRG2018",
         "Spring 2018",
         20170205,
         20160207,
         1,
         1,
         1,
         1,
         1,
         1,
         1,
         "2018-02-04"
        ],
        [
         20180205,
         "Feb 5, 2018",
         201801,
         "WK 01, 2018",
         201801,
         "Feb, 2018",
         20181,
         "Q1, 2018",
         2018,
         2018,
         "SPRG2018",
         "Spring 2018",
         20170206,
         20160208,
         2,
         2,
         2,
         2,
         1,
         1,
         1,
         "2018-02-05"
        ]
       ],
       "datasetInfos": [],
       "dbfsResultPath": null,
       "isJsonSchema": true,
       "metadata": {},
       "overflow": false,
       "plotOptions": {
        "customPlotOptions": {},
        "displayType": "table",
        "pivotAggregation": null,
        "pivotColumns": null,
        "xColumns": null,
        "yColumns": null
       },
       "removedWidgets": [],
       "schema": [
        {
         "metadata": "{}",
         "name": "fscldt_id",
         "type": "\"integer\""
        },
        {
         "metadata": "{}",
         "name": "fscldt_label",
         "type": "\"string\""
        },
        {
         "metadata": "{}",
         "name": "fsclwk_id",
         "type": "\"integer\""
        },
        {
         "metadata": "{}",
         "name": "fsclwk_label",
         "type": "\"string\""
        },
        {
         "metadata": "{}",
         "name": "fsclmth_id",
         "type": "\"integer\""
        },
        {
         "metadata": "{}",
         "name": "fsclmth_label",
         "type": "\"string\""
        },
        {
         "metadata": "{}",
         "name": "fsclqrtr_id",
         "type": "\"integer\""
        },
        {
         "metadata": "{}",
         "name": "fsclqrtr_label",
         "type": "\"string\""
        },
        {
         "metadata": "{}",
         "name": "fsclyr_id",
         "type": "\"integer\""
        },
        {
         "metadata": "{}",
         "name": "fsclyr_label",
         "type": "\"integer\""
        },
        {
         "metadata": "{}",
         "name": "ssn_id",
         "type": "\"string\""
        },
        {
         "metadata": "{}",
         "name": "ssn_label",
         "type": "\"string\""
        },
        {
         "metadata": "{}",
         "name": "ly_fscldt_id",
         "type": "\"integer\""
        },
        {
         "metadata": "{}",
         "name": "lly_fscldt_id",
         "type": "\"integer\""
        },
        {
         "metadata": "{}",
         "name": "fscldow",
         "type": "\"integer\""
        },
        {
         "metadata": "{}",
         "name": "fscldom",
         "type": "\"integer\""
        },
        {
         "metadata": "{}",
         "name": "fscldoq",
         "type": "\"integer\""
        },
        {
         "metadata": "{}",
         "name": "fscldoy",
         "type": "\"integer\""
        },
        {
         "metadata": "{}",
         "name": "fsclwoy",
         "type": "\"integer\""
        },
        {
         "metadata": "{}",
         "name": "fsclmoy",
         "type": "\"integer\""
        },
        {
         "metadata": "{}",
         "name": "fsclqoy",
         "type": "\"integer\""
        },
        {
         "metadata": "{\"__detected_date_formats\":\"yyyy-M-d\"}",
         "name": "date",
         "type": "\"date\""
        }
       ],
       "type": "table"
      }
     },
     "output_type": "display_data"
    }
   ],
   "source": [
    "df_clnd= spark.read.format(\"csv\").options(**options).load(\"dbfs:/FileStore/shared_uploads/ksivareddy1997@gmail.com/hier_clnd_dlm.gz\")\n",
    "print(df_clnd.printSchema())\n",
    "display(df_clnd.limit(2))"
   ]
  },
  {
   "cell_type": "code",
   "execution_count": 0,
   "metadata": {
    "application/vnd.databricks.v1+cell": {
     "cellMetadata": {
      "byteLimit": 2048000,
      "rowLimit": 10000
     },
     "inputWidgets": {},
     "nuid": "23a76230-4cd9-4737-b4aa-2dd3f172f929",
     "showTitle": false,
     "tableResultSettingsMap": {},
     "title": ""
    }
   },
   "outputs": [
    {
     "output_type": "stream",
     "name": "stdout",
     "output_type": "stream",
     "text": [
      "0\n1820\n1820\n"
     ]
    }
   ],
   "source": [
    "null_count=df_clnd.filter(col(\"fscldt_id\").isNull()).count()\n",
    "print(null_count)\n",
    "print(df_clnd.count())\n",
    "print(df_clnd.select(countDistinct(\"fscldt_id\")).collect()[0][0])"
   ]
  },
  {
   "cell_type": "code",
   "execution_count": 0,
   "metadata": {
    "application/vnd.databricks.v1+cell": {
     "cellMetadata": {
      "byteLimit": 2048000,
      "rowLimit": 10000
     },
     "inputWidgets": {},
     "nuid": "eac36aff-70b7-404a-abed-4024402a2a00",
     "showTitle": false,
     "tableResultSettingsMap": {},
     "title": ""
    }
   },
   "outputs": [
    {
     "output_type": "stream",
     "name": "stdout",
     "output_type": "stream",
     "text": [
      "root\n |-- hldy_id: string (nullable = true)\n |-- hldy_label: string (nullable = true)\n\nNone\n"
     ]
    },
    {
     "output_type": "display_data",
     "data": {
      "text/html": [
       "<style scoped>\n",
       "  .table-result-container {\n",
       "    max-height: 300px;\n",
       "    overflow: auto;\n",
       "  }\n",
       "  table, th, td {\n",
       "    border: 1px solid black;\n",
       "    border-collapse: collapse;\n",
       "  }\n",
       "  th, td {\n",
       "    padding: 5px;\n",
       "  }\n",
       "  th {\n",
       "    text-align: left;\n",
       "  }\n",
       "</style><div class='table-result-container'><table class='table-result'><thead style='background-color: white'><tr><th>hldy_id</th><th>hldy_label</th></tr></thead><tbody><tr><td>Valentines_Day</td><td>Valentine's Day</td></tr><tr><td>Presidents_Day</td><td>Presidents Day</td></tr></tbody></table></div>"
      ]
     },
     "metadata": {
      "application/vnd.databricks.v1+output": {
       "addedWidgets": {},
       "aggData": [],
       "aggError": "",
       "aggOverflow": false,
       "aggSchema": [],
       "aggSeriesLimitReached": false,
       "aggType": "",
       "arguments": {},
       "columnCustomDisplayInfos": {},
       "data": [
        [
         "Valentines_Day",
         "Valentine's Day"
        ],
        [
         "Presidents_Day",
         "Presidents Day"
        ]
       ],
       "datasetInfos": [],
       "dbfsResultPath": null,
       "isJsonSchema": true,
       "metadata": {},
       "overflow": false,
       "plotOptions": {
        "customPlotOptions": {},
        "displayType": "table",
        "pivotAggregation": null,
        "pivotColumns": null,
        "xColumns": null,
        "yColumns": null
       },
       "removedWidgets": [],
       "schema": [
        {
         "metadata": "{}",
         "name": "hldy_id",
         "type": "\"string\""
        },
        {
         "metadata": "{}",
         "name": "hldy_label",
         "type": "\"string\""
        }
       ],
       "type": "table"
      }
     },
     "output_type": "display_data"
    }
   ],
   "source": [
    "df_hldy= spark.read.format(\"csv\").options(**options).load(\"dbfs:/FileStore/shared_uploads/ksivareddy1997@gmail.com/hier_hldy_dlm.gz\")\n",
    "print(df_hldy.printSchema())\n",
    "display(df_hldy.limit(2))"
   ]
  },
  {
   "cell_type": "code",
   "execution_count": 0,
   "metadata": {
    "application/vnd.databricks.v1+cell": {
     "cellMetadata": {
      "byteLimit": 2048000,
      "rowLimit": 10000
     },
     "inputWidgets": {},
     "nuid": "b66ca531-4808-4ab2-a1b6-6269793bb02c",
     "showTitle": false,
     "tableResultSettingsMap": {},
     "title": ""
    }
   },
   "outputs": [
    {
     "output_type": "stream",
     "name": "stdout",
     "output_type": "stream",
     "text": [
      "0\n19\n19\n"
     ]
    }
   ],
   "source": [
    "null_count=df_hldy.filter(col(\"hldy_id\").isNull()).count()\n",
    "print(null_count)\n",
    "print(df_hldy.count())\n",
    "print(df_hldy.select(countDistinct(\"hldy_id\")).collect()[0][0])"
   ]
  },
  {
   "cell_type": "code",
   "execution_count": 0,
   "metadata": {
    "application/vnd.databricks.v1+cell": {
     "cellMetadata": {
      "byteLimit": 2048000,
      "rowLimit": 10000
     },
     "inputWidgets": {},
     "nuid": "bf5649e9-e66f-4a52-a257-367b0b972876",
     "showTitle": false,
     "tableResultSettingsMap": {},
     "title": ""
    }
   },
   "outputs": [
    {
     "output_type": "stream",
     "name": "stdout",
     "output_type": "stream",
     "text": [
      "root\n |-- loc: integer (nullable = true)\n |-- loc_label: string (nullable = true)\n |-- loctype: string (nullable = true)\n |-- loctype_label: string (nullable = true)\n\nNone\n"
     ]
    },
    {
     "output_type": "display_data",
     "data": {
      "text/html": [
       "<style scoped>\n",
       "  .table-result-container {\n",
       "    max-height: 300px;\n",
       "    overflow: auto;\n",
       "  }\n",
       "  table, th, td {\n",
       "    border: 1px solid black;\n",
       "    border-collapse: collapse;\n",
       "  }\n",
       "  th, td {\n",
       "    padding: 5px;\n",
       "  }\n",
       "  th {\n",
       "    text-align: left;\n",
       "  }\n",
       "</style><div class='table-result-container'><table class='table-result'><thead style='background-color: white'><tr><th>loc</th><th>loc_label</th><th>loctype</th><th>loctype_label</th></tr></thead><tbody><tr><td>103</td><td>Catalog/Internet</td><td>DC</td><td>DC</td></tr><tr><td>119</td><td>Retail</td><td>DC</td><td>DC</td></tr></tbody></table></div>"
      ]
     },
     "metadata": {
      "application/vnd.databricks.v1+output": {
       "addedWidgets": {},
       "aggData": [],
       "aggError": "",
       "aggOverflow": false,
       "aggSchema": [],
       "aggSeriesLimitReached": false,
       "aggType": "",
       "arguments": {},
       "columnCustomDisplayInfos": {},
       "data": [
        [
         103,
         "Catalog/Internet",
         "DC",
         "DC"
        ],
        [
         119,
         "Retail",
         "DC",
         "DC"
        ]
       ],
       "datasetInfos": [],
       "dbfsResultPath": null,
       "isJsonSchema": true,
       "metadata": {},
       "overflow": false,
       "plotOptions": {
        "customPlotOptions": {},
        "displayType": "table",
        "pivotAggregation": null,
        "pivotColumns": null,
        "xColumns": null,
        "yColumns": null
       },
       "removedWidgets": [],
       "schema": [
        {
         "metadata": "{}",
         "name": "loc",
         "type": "\"integer\""
        },
        {
         "metadata": "{}",
         "name": "loc_label",
         "type": "\"string\""
        },
        {
         "metadata": "{}",
         "name": "loctype",
         "type": "\"string\""
        },
        {
         "metadata": "{}",
         "name": "loctype_label",
         "type": "\"string\""
        }
       ],
       "type": "table"
      }
     },
     "output_type": "display_data"
    }
   ],
   "source": [
    "df_invloc = spark.read.format(\"csv\").options(**options).load(\"dbfs:/FileStore/shared_uploads/ksivareddy1997@gmail.com/hier_invloc_dlm.gz\")\n",
    "print(df_invloc.printSchema())\n",
    "display(df_invloc.limit(2))"
   ]
  },
  {
   "cell_type": "code",
   "execution_count": 0,
   "metadata": {
    "application/vnd.databricks.v1+cell": {
     "cellMetadata": {
      "byteLimit": 2048000,
      "rowLimit": 10000
     },
     "inputWidgets": {},
     "nuid": "45d8f80c-624a-4ecf-83de-14cadf70917a",
     "showTitle": false,
     "tableResultSettingsMap": {},
     "title": ""
    }
   },
   "outputs": [
    {
     "output_type": "stream",
     "name": "stdout",
     "output_type": "stream",
     "text": [
      "0\n85\n85\n"
     ]
    }
   ],
   "source": [
    "null_count=df_invloc.filter(col(\"loc\").isNull()).count()\n",
    "print(null_count)\n",
    "print(df_invloc.count())\n",
    "print(df_invloc.select(countDistinct(\"loc\")).collect()[0][0])"
   ]
  },
  {
   "cell_type": "code",
   "execution_count": 0,
   "metadata": {
    "application/vnd.databricks.v1+cell": {
     "cellMetadata": {
      "byteLimit": 2048000,
      "rowLimit": 10000
     },
     "inputWidgets": {},
     "nuid": "ccd01531-145a-458a-9145-b7d2b2b05740",
     "showTitle": false,
     "tableResultSettingsMap": {},
     "title": ""
    }
   },
   "outputs": [
    {
     "output_type": "stream",
     "name": "stdout",
     "output_type": "stream",
     "text": [
      "root\n |-- code_id: string (nullable = true)\n |-- code_label: string (nullable = true)\n |-- bckt_id: string (nullable = true)\n |-- bckt_label: string (nullable = true)\n |-- ownrshp_id: string (nullable = true)\n |-- ownrshp_label: string (nullable = true)\n\nNone\n"
     ]
    },
    {
     "output_type": "display_data",
     "data": {
      "text/html": [
       "<style scoped>\n",
       "  .table-result-container {\n",
       "    max-height: 300px;\n",
       "    overflow: auto;\n",
       "  }\n",
       "  table, th, td {\n",
       "    border: 1px solid black;\n",
       "    border-collapse: collapse;\n",
       "  }\n",
       "  th, td {\n",
       "    padding: 5px;\n",
       "  }\n",
       "  th {\n",
       "    text-align: left;\n",
       "  }\n",
       "</style><div class='table-result-container'><table class='table-result'><thead style='background-color: white'><tr><th>code_id</th><th>code_label</th><th>bckt_id</th><th>bckt_label</th><th>ownrshp_id</th><th>ownrshp_label</th></tr></thead><tbody><tr><td>INV-880</td><td>In-Transit</td><td>IBIT</td><td>In-transit</td><td>IB</td><td>Inbound</td></tr><tr><td>INV-875</td><td>ASN</td><td>IBOO</td><td>On Order</td><td>IB</td><td>Inbound</td></tr></tbody></table></div>"
      ]
     },
     "metadata": {
      "application/vnd.databricks.v1+output": {
       "addedWidgets": {},
       "aggData": [],
       "aggError": "",
       "aggOverflow": false,
       "aggSchema": [],
       "aggSeriesLimitReached": false,
       "aggType": "",
       "arguments": {},
       "columnCustomDisplayInfos": {},
       "data": [
        [
         "INV-880",
         "In-Transit",
         "IBIT",
         "In-transit",
         "IB",
         "Inbound"
        ],
        [
         "INV-875",
         "ASN",
         "IBOO",
         "On Order",
         "IB",
         "Inbound"
        ]
       ],
       "datasetInfos": [],
       "dbfsResultPath": null,
       "isJsonSchema": true,
       "metadata": {},
       "overflow": false,
       "plotOptions": {
        "customPlotOptions": {},
        "displayType": "table",
        "pivotAggregation": null,
        "pivotColumns": null,
        "xColumns": null,
        "yColumns": null
       },
       "removedWidgets": [],
       "schema": [
        {
         "metadata": "{}",
         "name": "code_id",
         "type": "\"string\""
        },
        {
         "metadata": "{}",
         "name": "code_label",
         "type": "\"string\""
        },
        {
         "metadata": "{}",
         "name": "bckt_id",
         "type": "\"string\""
        },
        {
         "metadata": "{}",
         "name": "bckt_label",
         "type": "\"string\""
        },
        {
         "metadata": "{}",
         "name": "ownrshp_id",
         "type": "\"string\""
        },
        {
         "metadata": "{}",
         "name": "ownrshp_label",
         "type": "\"string\""
        }
       ],
       "type": "table"
      }
     },
     "output_type": "display_data"
    }
   ],
   "source": [
    "df_invstatus = spark.read.format(\"csv\").options(**options).load(\"dbfs:/FileStore/shared_uploads/ksivareddy1997@gmail.com/hier_invstatus_dlm.gz\")\n",
    "print(df_invstatus.printSchema())\n",
    "display(df_invstatus.limit(2))"
   ]
  },
  {
   "cell_type": "code",
   "execution_count": 0,
   "metadata": {
    "application/vnd.databricks.v1+cell": {
     "cellMetadata": {
      "byteLimit": 2048000,
      "rowLimit": 10000
     },
     "inputWidgets": {},
     "nuid": "36930506-c1ec-4456-8046-6907906d0063",
     "showTitle": false,
     "tableResultSettingsMap": {},
     "title": ""
    }
   },
   "outputs": [
    {
     "output_type": "stream",
     "name": "stdout",
     "output_type": "stream",
     "text": [
      "0\n245\n245\n"
     ]
    }
   ],
   "source": [
    "null_count=df_invstatus.filter(col(\"code_id\").isNull()).count()\n",
    "print(null_count)\n",
    "print(df_invstatus.count())\n",
    "print(df_invstatus.select(countDistinct(\"code_id\")).collect()[0][0])"
   ]
  },
  {
   "cell_type": "code",
   "execution_count": 0,
   "metadata": {
    "application/vnd.databricks.v1+cell": {
     "cellMetadata": {
      "byteLimit": 2048000,
      "rowLimit": 10000
     },
     "inputWidgets": {},
     "nuid": "1cf0b335-5afa-47bc-b1ea-23899b0677d6",
     "showTitle": false,
     "tableResultSettingsMap": {},
     "title": ""
    }
   },
   "outputs": [
    {
     "output_type": "stream",
     "name": "stdout",
     "output_type": "stream",
     "text": [
      "root\n |-- site_id: string (nullable = true)\n |-- site_label: string (nullable = true)\n |-- subchnl_id: string (nullable = true)\n |-- subchnl_label: string (nullable = true)\n |-- chnl_id: string (nullable = true)\n |-- chnl_label: string (nullable = true)\n\nNone\n"
     ]
    },
    {
     "output_type": "display_data",
     "data": {
      "text/html": [
       "<style scoped>\n",
       "  .table-result-container {\n",
       "    max-height: 300px;\n",
       "    overflow: auto;\n",
       "  }\n",
       "  table, th, td {\n",
       "    border: 1px solid black;\n",
       "    border-collapse: collapse;\n",
       "  }\n",
       "  th, td {\n",
       "    padding: 5px;\n",
       "  }\n",
       "  th {\n",
       "    text-align: left;\n",
       "  }\n",
       "</style><div class='table-result-container'><table class='table-result'><thead style='background-color: white'><tr><th>site_id</th><th>site_label</th><th>subchnl_id</th><th>subchnl_label</th><th>chnl_id</th><th>chnl_label</th></tr></thead><tbody><tr><td>CATMAIN</td><td>Catalog Main</td><td>CATMAIN</td><td>Catalog Main</td><td>CAT</td><td>Catalog</td></tr><tr><td>CATPROSP</td><td>Catalog Prospect</td><td>CATPROSP</td><td>Catalog Prospect</td><td>CAT</td><td>Catalog</td></tr></tbody></table></div>"
      ]
     },
     "metadata": {
      "application/vnd.databricks.v1+output": {
       "addedWidgets": {},
       "aggData": [],
       "aggError": "",
       "aggOverflow": false,
       "aggSchema": [],
       "aggSeriesLimitReached": false,
       "aggType": "",
       "arguments": {},
       "columnCustomDisplayInfos": {},
       "data": [
        [
         "CATMAIN",
         "Catalog Main",
         "CATMAIN",
         "Catalog Main",
         "CAT",
         "Catalog"
        ],
        [
         "CATPROSP",
         "Catalog Prospect",
         "CATPROSP",
         "Catalog Prospect",
         "CAT",
         "Catalog"
        ]
       ],
       "datasetInfos": [],
       "dbfsResultPath": null,
       "isJsonSchema": true,
       "metadata": {},
       "overflow": false,
       "plotOptions": {
        "customPlotOptions": {},
        "displayType": "table",
        "pivotAggregation": null,
        "pivotColumns": null,
        "xColumns": null,
        "yColumns": null
       },
       "removedWidgets": [],
       "schema": [
        {
         "metadata": "{}",
         "name": "site_id",
         "type": "\"string\""
        },
        {
         "metadata": "{}",
         "name": "site_label",
         "type": "\"string\""
        },
        {
         "metadata": "{}",
         "name": "subchnl_id",
         "type": "\"string\""
        },
        {
         "metadata": "{}",
         "name": "subchnl_label",
         "type": "\"string\""
        },
        {
         "metadata": "{}",
         "name": "chnl_id",
         "type": "\"string\""
        },
        {
         "metadata": "{}",
         "name": "chnl_label",
         "type": "\"string\""
        }
       ],
       "type": "table"
      }
     },
     "output_type": "display_data"
    }
   ],
   "source": [
    "df_possite = spark.read.format(\"csv\").options(**options).load(\"dbfs:/FileStore/shared_uploads/ksivareddy1997@gmail.com/hier_possite_dlm.gz\")\n",
    "print(df_possite.printSchema())\n",
    "display(df_possite.limit(2))"
   ]
  },
  {
   "cell_type": "code",
   "execution_count": 0,
   "metadata": {
    "application/vnd.databricks.v1+cell": {
     "cellMetadata": {
      "byteLimit": 2048000,
      "rowLimit": 10000
     },
     "inputWidgets": {},
     "nuid": "9b9572ee-d924-4b75-8bed-5a55e316be41",
     "showTitle": false,
     "tableResultSettingsMap": {},
     "title": ""
    }
   },
   "outputs": [
    {
     "output_type": "stream",
     "name": "stdout",
     "output_type": "stream",
     "text": [
      "0\n90\n90\n"
     ]
    }
   ],
   "source": [
    "null_count=df_possite.filter(col(\"site_id\").isNull()).count()\n",
    "print(null_count)\n",
    "print(df_possite.count())\n",
    "print(df_possite.select(countDistinct(\"site_id\")).collect()[0][0])"
   ]
  },
  {
   "cell_type": "code",
   "execution_count": 0,
   "metadata": {
    "application/vnd.databricks.v1+cell": {
     "cellMetadata": {
      "byteLimit": 2048000,
      "rowLimit": 10000
     },
     "inputWidgets": {},
     "nuid": "37347f21-3ae5-4369-bce1-1d15aa916e95",
     "showTitle": false,
     "tableResultSettingsMap": {},
     "title": ""
    }
   },
   "outputs": [
    {
     "output_type": "stream",
     "name": "stdout",
     "output_type": "stream",
     "text": [
      "root\n |-- substate_id: string (nullable = true)\n |-- substate_label: string (nullable = true)\n |-- state_id: string (nullable = true)\n |-- state_label: string (nullable = true)\n\nNone\n"
     ]
    },
    {
     "output_type": "display_data",
     "data": {
      "text/html": [
       "<style scoped>\n",
       "  .table-result-container {\n",
       "    max-height: 300px;\n",
       "    overflow: auto;\n",
       "  }\n",
       "  table, th, td {\n",
       "    border: 1px solid black;\n",
       "    border-collapse: collapse;\n",
       "  }\n",
       "  th, td {\n",
       "    padding: 5px;\n",
       "  }\n",
       "  th {\n",
       "    text-align: left;\n",
       "  }\n",
       "</style><div class='table-result-container'><table class='table-result'><thead style='background-color: white'><tr><th>substate_id</th><th>substate_label</th><th>state_id</th><th>state_label</th></tr></thead><tbody><tr><td>FP</td><td>Full Price</td><td>FP</td><td>Full Price</td></tr><tr><td>MD1</td><td>Markdown 1</td><td>MD</td><td>Markdown</td></tr></tbody></table></div>"
      ]
     },
     "metadata": {
      "application/vnd.databricks.v1+output": {
       "addedWidgets": {},
       "aggData": [],
       "aggError": "",
       "aggOverflow": false,
       "aggSchema": [],
       "aggSeriesLimitReached": false,
       "aggType": "",
       "arguments": {},
       "columnCustomDisplayInfos": {},
       "data": [
        [
         "FP",
         "Full Price",
         "FP",
         "Full Price"
        ],
        [
         "MD1",
         "Markdown 1",
         "MD",
         "Markdown"
        ]
       ],
       "datasetInfos": [],
       "dbfsResultPath": null,
       "isJsonSchema": true,
       "metadata": {},
       "overflow": false,
       "plotOptions": {
        "customPlotOptions": {},
        "displayType": "table",
        "pivotAggregation": null,
        "pivotColumns": null,
        "xColumns": null,
        "yColumns": null
       },
       "removedWidgets": [],
       "schema": [
        {
         "metadata": "{}",
         "name": "substate_id",
         "type": "\"string\""
        },
        {
         "metadata": "{}",
         "name": "substate_label",
         "type": "\"string\""
        },
        {
         "metadata": "{}",
         "name": "state_id",
         "type": "\"string\""
        },
        {
         "metadata": "{}",
         "name": "state_label",
         "type": "\"string\""
        }
       ],
       "type": "table"
      }
     },
     "output_type": "display_data"
    }
   ],
   "source": [
    "df_pricestate = spark.read.format(\"csv\").options(**options).load(\"dbfs:/FileStore/shared_uploads/ksivareddy1997@gmail.com/hier_pricestate_dlm.gz\")\n",
    "print(df_pricestate.printSchema())\n",
    "display(df_pricestate.limit(2))"
   ]
  },
  {
   "cell_type": "code",
   "execution_count": 0,
   "metadata": {
    "application/vnd.databricks.v1+cell": {
     "cellMetadata": {
      "byteLimit": 2048000,
      "rowLimit": 10000
     },
     "inputWidgets": {},
     "nuid": "897389f1-21b5-4079-b27d-926ad5af7d22",
     "showTitle": false,
     "tableResultSettingsMap": {},
     "title": ""
    }
   },
   "outputs": [
    {
     "output_type": "stream",
     "name": "stdout",
     "output_type": "stream",
     "text": [
      "0\n4\n4\n"
     ]
    }
   ],
   "source": [
    "null_count=df_pricestate.filter(col(\"substate_id\").isNull()).count()\n",
    "print(null_count)\n",
    "print(df_pricestate.count())\n",
    "print(df_pricestate.select(countDistinct(\"substate_id\")).collect()[0][0])"
   ]
  },
  {
   "cell_type": "code",
   "execution_count": 0,
   "metadata": {
    "application/vnd.databricks.v1+cell": {
     "cellMetadata": {
      "byteLimit": 2048000,
      "rowLimit": 10000
     },
     "inputWidgets": {},
     "nuid": "723dac2c-62ae-4b99-9764-5c160f4c3385",
     "showTitle": false,
     "tableResultSettingsMap": {},
     "title": ""
    }
   },
   "outputs": [
    {
     "output_type": "stream",
     "name": "stdout",
     "output_type": "stream",
     "text": [
      "1235\nroot\n |-- sku_id: string (nullable = true)\n |-- sku_label: string (nullable = true)\n |-- stylclr_id: string (nullable = true)\n |-- stylclr_label: string (nullable = true)\n |-- styl_id: string (nullable = true)\n |-- styl_label: string (nullable = true)\n |-- subcat_id: integer (nullable = true)\n |-- subcat_label: string (nullable = true)\n |-- cat_id: integer (nullable = true)\n |-- cat_label: string (nullable = true)\n |-- dept_id: integer (nullable = true)\n |-- dept_label: string (nullable = true)\n |-- issvc: integer (nullable = true)\n |-- isasmbly: integer (nullable = true)\n |-- isnfs: integer (nullable = true)\n\nNone\n"
     ]
    },
    {
     "output_type": "display_data",
     "data": {
      "text/html": [
       "<style scoped>\n",
       "  .table-result-container {\n",
       "    max-height: 300px;\n",
       "    overflow: auto;\n",
       "  }\n",
       "  table, th, td {\n",
       "    border: 1px solid black;\n",
       "    border-collapse: collapse;\n",
       "  }\n",
       "  th, td {\n",
       "    padding: 5px;\n",
       "  }\n",
       "  th {\n",
       "    text-align: left;\n",
       "  }\n",
       "</style><div class='table-result-container'><table class='table-result'><thead style='background-color: white'><tr><th>sku_id</th><th>sku_label</th><th>stylclr_id</th><th>stylclr_label</th><th>styl_id</th><th>styl_label</th><th>subcat_id</th><th>subcat_label</th><th>cat_id</th><th>cat_label</th><th>dept_id</th><th>dept_label</th><th>issvc</th><th>isasmbly</th><th>isnfs</th></tr></thead><tbody><tr><td>2230940206</td><td>COTTON UNDERWIRE CAMI WHITE 36C</td><td>2230940</td><td>COTTON UNDERWIRE CAMI WHITE</td><td>22309</td><td>COTTON UNDERWIRE CAMI</td><td>405</td><td>TOPS</td><td>1000</td><td>TOPS</td><td>2000</td><td>APPAREL</td><td>0</td><td>0</td><td>0</td></tr><tr><td>2230940208</td><td>COTTON UNDERWIRE CAMI WHITE 38C</td><td>2230940</td><td>COTTON UNDERWIRE CAMI WHITE</td><td>22309</td><td>COTTON UNDERWIRE CAMI</td><td>405</td><td>TOPS</td><td>1000</td><td>TOPS</td><td>2000</td><td>APPAREL</td><td>0</td><td>0</td><td>0</td></tr></tbody></table></div>"
      ]
     },
     "metadata": {
      "application/vnd.databricks.v1+output": {
       "addedWidgets": {},
       "aggData": [],
       "aggError": "",
       "aggOverflow": false,
       "aggSchema": [],
       "aggSeriesLimitReached": false,
       "aggType": "",
       "arguments": {},
       "columnCustomDisplayInfos": {},
       "data": [
        [
         "2230940206",
         "COTTON UNDERWIRE CAMI WHITE 36C",
         "2230940",
         "COTTON UNDERWIRE CAMI WHITE",
         "22309",
         "COTTON UNDERWIRE CAMI",
         405,
         "TOPS",
         1000,
         "TOPS",
         2000,
         "APPAREL",
         0,
         0,
         0
        ],
        [
         "2230940208",
         "COTTON UNDERWIRE CAMI WHITE 38C",
         "2230940",
         "COTTON UNDERWIRE CAMI WHITE",
         "22309",
         "COTTON UNDERWIRE CAMI",
         405,
         "TOPS",
         1000,
         "TOPS",
         2000,
         "APPAREL",
         0,
         0,
         0
        ]
       ],
       "datasetInfos": [],
       "dbfsResultPath": null,
       "isJsonSchema": true,
       "metadata": {},
       "overflow": false,
       "plotOptions": {
        "customPlotOptions": {},
        "displayType": "table",
        "pivotAggregation": null,
        "pivotColumns": null,
        "xColumns": null,
        "yColumns": null
       },
       "removedWidgets": [],
       "schema": [
        {
         "metadata": "{}",
         "name": "sku_id",
         "type": "\"string\""
        },
        {
         "metadata": "{}",
         "name": "sku_label",
         "type": "\"string\""
        },
        {
         "metadata": "{}",
         "name": "stylclr_id",
         "type": "\"string\""
        },
        {
         "metadata": "{}",
         "name": "stylclr_label",
         "type": "\"string\""
        },
        {
         "metadata": "{}",
         "name": "styl_id",
         "type": "\"string\""
        },
        {
         "metadata": "{}",
         "name": "styl_label",
         "type": "\"string\""
        },
        {
         "metadata": "{}",
         "name": "subcat_id",
         "type": "\"integer\""
        },
        {
         "metadata": "{}",
         "name": "subcat_label",
         "type": "\"string\""
        },
        {
         "metadata": "{}",
         "name": "cat_id",
         "type": "\"integer\""
        },
        {
         "metadata": "{}",
         "name": "cat_label",
         "type": "\"string\""
        },
        {
         "metadata": "{}",
         "name": "dept_id",
         "type": "\"integer\""
        },
        {
         "metadata": "{}",
         "name": "dept_label",
         "type": "\"string\""
        },
        {
         "metadata": "{}",
         "name": "issvc",
         "type": "\"integer\""
        },
        {
         "metadata": "{}",
         "name": "isasmbly",
         "type": "\"integer\""
        },
        {
         "metadata": "{}",
         "name": "isnfs",
         "type": "\"integer\""
        }
       ],
       "type": "table"
      }
     },
     "output_type": "display_data"
    }
   ],
   "source": [
    "df_prod = spark.read.format(\"csv\").options(**options).load(\"dbfs:/FileStore/shared_uploads/ksivareddy1997@gmail.com/hier_prod_dlm.gz\")\n",
    "print(df_prod.count())\n",
    "print(df_prod.printSchema())\n",
    "display(df_prod.limit(2))"
   ]
  },
  {
   "cell_type": "code",
   "execution_count": 0,
   "metadata": {
    "application/vnd.databricks.v1+cell": {
     "cellMetadata": {
      "byteLimit": 2048000,
      "rowLimit": 10000
     },
     "inputWidgets": {},
     "nuid": "7cead98c-a89d-49e5-bfe0-d237aac8b94a",
     "showTitle": false,
     "tableResultSettingsMap": {},
     "title": ""
    }
   },
   "outputs": [
    {
     "output_type": "stream",
     "name": "stdout",
     "output_type": "stream",
     "text": [
      "0\n1235\n1235\n"
     ]
    }
   ],
   "source": [
    "null_count=df_prod.filter(col(\"sku_id\").isNull()).count()\n",
    "print(null_count)\n",
    "print(df_prod.count())\n",
    "print(df_prod.select(countDistinct(\"sku_id\")).collect()[0][0])"
   ]
  },
  {
   "cell_type": "code",
   "execution_count": 0,
   "metadata": {
    "application/vnd.databricks.v1+cell": {
     "cellMetadata": {
      "byteLimit": 2048000,
      "rowLimit": 10000
     },
     "inputWidgets": {},
     "nuid": "cd498002-9bc3-4be3-b3e1-d50536797e76",
     "showTitle": false,
     "tableResultSettingsMap": {},
     "title": ""
    }
   },
   "outputs": [
    {
     "output_type": "stream",
     "name": "stdout",
     "output_type": "stream",
     "text": [
      "84\nroot\n |-- str: integer (nullable = true)\n |-- str_label: string (nullable = true)\n |-- dstr: integer (nullable = true)\n |-- dstr_label: string (nullable = true)\n |-- rgn: integer (nullable = true)\n |-- rgn_label: string (nullable = true)\n\nNone\n"
     ]
    },
    {
     "output_type": "display_data",
     "data": {
      "text/html": [
       "<style scoped>\n",
       "  .table-result-container {\n",
       "    max-height: 300px;\n",
       "    overflow: auto;\n",
       "  }\n",
       "  table, th, td {\n",
       "    border: 1px solid black;\n",
       "    border-collapse: collapse;\n",
       "  }\n",
       "  th, td {\n",
       "    padding: 5px;\n",
       "  }\n",
       "  th {\n",
       "    text-align: left;\n",
       "  }\n",
       "</style><div class='table-result-container'><table class='table-result'><thead style='background-color: white'><tr><th>str</th><th>str_label</th><th>dstr</th><th>dstr_label</th><th>rgn</th><th>rgn_label</th></tr></thead><tbody><tr><td>115</td><td>STL County Library</td><td>0</td><td>No District Name</td><td>0</td><td>No Region Name</td></tr><tr><td>126</td><td>Burr Ridge</td><td>0</td><td>No District Name</td><td>0</td><td>No Region Name</td></tr></tbody></table></div>"
      ]
     },
     "metadata": {
      "application/vnd.databricks.v1+output": {
       "addedWidgets": {},
       "aggData": [],
       "aggError": "",
       "aggOverflow": false,
       "aggSchema": [],
       "aggSeriesLimitReached": false,
       "aggType": "",
       "arguments": {},
       "columnCustomDisplayInfos": {},
       "data": [
        [
         115,
         "STL County Library",
         0,
         "No District Name",
         0,
         "No Region Name"
        ],
        [
         126,
         "Burr Ridge",
         0,
         "No District Name",
         0,
         "No Region Name"
        ]
       ],
       "datasetInfos": [],
       "dbfsResultPath": null,
       "isJsonSchema": true,
       "metadata": {},
       "overflow": false,
       "plotOptions": {
        "customPlotOptions": {},
        "displayType": "table",
        "pivotAggregation": null,
        "pivotColumns": null,
        "xColumns": null,
        "yColumns": null
       },
       "removedWidgets": [],
       "schema": [
        {
         "metadata": "{}",
         "name": "str",
         "type": "\"integer\""
        },
        {
         "metadata": "{}",
         "name": "str_label",
         "type": "\"string\""
        },
        {
         "metadata": "{}",
         "name": "dstr",
         "type": "\"integer\""
        },
        {
         "metadata": "{}",
         "name": "dstr_label",
         "type": "\"string\""
        },
        {
         "metadata": "{}",
         "name": "rgn",
         "type": "\"integer\""
        },
        {
         "metadata": "{}",
         "name": "rgn_label",
         "type": "\"string\""
        }
       ],
       "type": "table"
      }
     },
     "output_type": "display_data"
    }
   ],
   "source": [
    "df_rtloc = spark.read.format(\"csv\").options(**options).load(\"dbfs:/FileStore/shared_uploads/ksivareddy1997@gmail.com/hier_rtlloc_dlm.gz\")\n",
    "print(df_rtloc.count())\n",
    "print(df_rtloc.printSchema())\n",
    "display(df_rtloc.limit(2))"
   ]
  },
  {
   "cell_type": "code",
   "execution_count": 0,
   "metadata": {
    "application/vnd.databricks.v1+cell": {
     "cellMetadata": {
      "byteLimit": 2048000,
      "rowLimit": 10000
     },
     "inputWidgets": {},
     "nuid": "cf2741c5-80ec-4b87-82ed-d7982d72e5b5",
     "showTitle": false,
     "tableResultSettingsMap": {},
     "title": ""
    }
   },
   "outputs": [
    {
     "output_type": "stream",
     "name": "stdout",
     "output_type": "stream",
     "text": [
      "0\n84\n84\n"
     ]
    }
   ],
   "source": [
    "null_count=df_rtloc.filter(col(\"str\").isNull()).count()\n",
    "print(null_count)\n",
    "print(df_rtloc.count())\n",
    "print(df_rtloc.select(countDistinct(\"str\")).collect()[0][0])"
   ]
  },
  {
   "cell_type": "markdown",
   "metadata": {
    "application/vnd.databricks.v1+cell": {
     "cellMetadata": {},
     "inputWidgets": {},
     "nuid": "efb4177f-b590-4bb9-8e68-56cbf92ea0a0",
     "showTitle": false,
     "tableResultSettingsMap": {},
     "title": ""
    }
   },
   "source": [
    "### Foreign Key Constraints Between Fact and Dimension Tables"
   ]
  },
  {
   "cell_type": "code",
   "execution_count": 0,
   "metadata": {
    "application/vnd.databricks.v1+cell": {
     "cellMetadata": {
      "byteLimit": 2048000,
      "rowLimit": 10000
     },
     "inputWidgets": {},
     "nuid": "aab94ded-03c7-4115-93c6-1e7e2dba181f",
     "showTitle": false,
     "tableResultSettingsMap": {},
     "title": ""
    }
   },
   "outputs": [
    {
     "output_type": "display_data",
     "data": {
      "text/html": [
       "<style scoped>\n",
       "  .table-result-container {\n",
       "    max-height: 300px;\n",
       "    overflow: auto;\n",
       "  }\n",
       "  table, th, td {\n",
       "    border: 1px solid black;\n",
       "    border-collapse: collapse;\n",
       "  }\n",
       "  th, td {\n",
       "    padding: 5px;\n",
       "  }\n",
       "  th {\n",
       "    text-align: left;\n",
       "  }\n",
       "</style><div class='table-result-container'><table class='table-result'><thead style='background-color: white'><tr><th>order_id</th><th>line_id</th><th>type</th><th>dt</th><th>pos_site_id</th><th>sku_id</th><th>fscldt_id</th><th>price_substate_id</th><th>sales_units</th><th>sales_dollars</th><th>discount_dollars</th><th>original_order_id</th><th>original_line_id</th></tr></thead><tbody></tbody></table></div>"
      ]
     },
     "metadata": {
      "application/vnd.databricks.v1+output": {
       "addedWidgets": {},
       "aggData": [],
       "aggError": "",
       "aggOverflow": false,
       "aggSchema": [],
       "aggSeriesLimitReached": false,
       "aggType": "",
       "arguments": {},
       "columnCustomDisplayInfos": {},
       "data": [],
       "datasetInfos": [],
       "dbfsResultPath": null,
       "isJsonSchema": true,
       "metadata": {},
       "overflow": false,
       "plotOptions": {
        "customPlotOptions": {},
        "displayType": "table",
        "pivotAggregation": null,
        "pivotColumns": null,
        "xColumns": null,
        "yColumns": null
       },
       "removedWidgets": [],
       "schema": [
        {
         "metadata": "{}",
         "name": "order_id",
         "type": "\"long\""
        },
        {
         "metadata": "{}",
         "name": "line_id",
         "type": "\"integer\""
        },
        {
         "metadata": "{}",
         "name": "type",
         "type": "\"string\""
        },
        {
         "metadata": "{}",
         "name": "dt",
         "type": "\"timestamp\""
        },
        {
         "metadata": "{}",
         "name": "pos_site_id",
         "type": "\"string\""
        },
        {
         "metadata": "{}",
         "name": "sku_id",
         "type": "\"string\""
        },
        {
         "metadata": "{}",
         "name": "fscldt_id",
         "type": "\"integer\""
        },
        {
         "metadata": "{}",
         "name": "price_substate_id",
         "type": "\"string\""
        },
        {
         "metadata": "{}",
         "name": "sales_units",
         "type": "\"integer\""
        },
        {
         "metadata": "{}",
         "name": "sales_dollars",
         "type": "\"double\""
        },
        {
         "metadata": "{}",
         "name": "discount_dollars",
         "type": "\"double\""
        },
        {
         "metadata": "{}",
         "name": "original_order_id",
         "type": "\"long\""
        },
        {
         "metadata": "{}",
         "name": "original_line_id",
         "type": "\"integer\""
        }
       ],
       "type": "table"
      }
     },
     "output_type": "display_data"
    }
   ],
   "source": [
    "df_transaction_possite=df_transcations.alias(\"t\").join(df_possite.alias(\"ps\"), col(\"t.pos_site_id\") == col(\"ps.site_id\"), \"left_anti\")\n",
    "display(df_transaction_possite.limit(2))\n"
   ]
  },
  {
   "cell_type": "code",
   "execution_count": 0,
   "metadata": {
    "application/vnd.databricks.v1+cell": {
     "cellMetadata": {
      "byteLimit": 2048000,
      "rowLimit": 10000
     },
     "inputWidgets": {},
     "nuid": "790436d6-319b-4a91-8eb5-53b32715b0e2",
     "showTitle": false,
     "tableResultSettingsMap": {},
     "title": ""
    }
   },
   "outputs": [
    {
     "output_type": "display_data",
     "data": {
      "text/html": [
       "<style scoped>\n",
       "  .table-result-container {\n",
       "    max-height: 300px;\n",
       "    overflow: auto;\n",
       "  }\n",
       "  table, th, td {\n",
       "    border: 1px solid black;\n",
       "    border-collapse: collapse;\n",
       "  }\n",
       "  th, td {\n",
       "    padding: 5px;\n",
       "  }\n",
       "  th {\n",
       "    text-align: left;\n",
       "  }\n",
       "</style><div class='table-result-container'><table class='table-result'><thead style='background-color: white'><tr><th>order_id</th><th>line_id</th><th>type</th><th>dt</th><th>pos_site_id</th><th>sku_id</th><th>fscldt_id</th><th>price_substate_id</th><th>sales_units</th><th>sales_dollars</th><th>discount_dollars</th><th>original_order_id</th><th>original_line_id</th></tr></thead><tbody></tbody></table></div>"
      ]
     },
     "metadata": {
      "application/vnd.databricks.v1+output": {
       "addedWidgets": {},
       "aggData": [],
       "aggError": "",
       "aggOverflow": false,
       "aggSchema": [],
       "aggSeriesLimitReached": false,
       "aggType": "",
       "arguments": {},
       "columnCustomDisplayInfos": {},
       "data": [],
       "datasetInfos": [],
       "dbfsResultPath": null,
       "isJsonSchema": true,
       "metadata": {},
       "overflow": false,
       "plotOptions": {
        "customPlotOptions": {},
        "displayType": "table",
        "pivotAggregation": null,
        "pivotColumns": null,
        "xColumns": null,
        "yColumns": null
       },
       "removedWidgets": [],
       "schema": [
        {
         "metadata": "{}",
         "name": "order_id",
         "type": "\"long\""
        },
        {
         "metadata": "{}",
         "name": "line_id",
         "type": "\"integer\""
        },
        {
         "metadata": "{}",
         "name": "type",
         "type": "\"string\""
        },
        {
         "metadata": "{}",
         "name": "dt",
         "type": "\"timestamp\""
        },
        {
         "metadata": "{}",
         "name": "pos_site_id",
         "type": "\"string\""
        },
        {
         "metadata": "{}",
         "name": "sku_id",
         "type": "\"string\""
        },
        {
         "metadata": "{}",
         "name": "fscldt_id",
         "type": "\"integer\""
        },
        {
         "metadata": "{}",
         "name": "price_substate_id",
         "type": "\"string\""
        },
        {
         "metadata": "{}",
         "name": "sales_units",
         "type": "\"integer\""
        },
        {
         "metadata": "{}",
         "name": "sales_dollars",
         "type": "\"double\""
        },
        {
         "metadata": "{}",
         "name": "discount_dollars",
         "type": "\"double\""
        },
        {
         "metadata": "{}",
         "name": "original_order_id",
         "type": "\"long\""
        },
        {
         "metadata": "{}",
         "name": "original_line_id",
         "type": "\"integer\""
        }
       ],
       "type": "table"
      }
     },
     "output_type": "display_data"
    }
   ],
   "source": [
    "df_transaction_prod=df_transcations.alias(\"t\").join(df_prod.alias(\"ps\"), col(\"t.sku_id\") == col(\"ps.sku_id\"), \"left_anti\")\n",
    "display(df_transaction_possite.limit(2))"
   ]
  },
  {
   "cell_type": "markdown",
   "metadata": {
    "application/vnd.databricks.v1+cell": {
     "cellMetadata": {},
     "inputWidgets": {},
     "nuid": "bca464bf-ad4e-4985-bd82-bfa79791679e",
     "showTitle": false,
     "tableResultSettingsMap": {},
     "title": ""
    }
   },
   "source": [
    "### Dump"
   ]
  },
  {
   "cell_type": "code",
   "execution_count": 0,
   "metadata": {
    "application/vnd.databricks.v1+cell": {
     "cellMetadata": {
      "byteLimit": 2048000,
      "rowLimit": 10000
     },
     "inputWidgets": {},
     "nuid": "5eff0a47-2382-4143-9506-991842a161f3",
     "showTitle": false,
     "tableResultSettingsMap": {},
     "title": ""
    }
   },
   "outputs": [],
   "source": [
    "# df_possite.select('site_id').distinct().show()\n",
    "# df_average_costs.groupBy(\"fscldt_id\") \\\n",
    "#     .count() \\\n",
    "#     .filter(col(\"count\") > 1) \\\n",
    "#     .orderBy(col(\"fscldt_id\")) \\\n",
    "#     .show()\n",
    "# df_average_costs.select(col(\"fscldt_id\")) \\\n",
    "#     .where(col(\"fscldt_id\") == \"20160204\") \\\n",
    "#     .show()\n",
    "# df_transaction_possite.where(col('pos_site_id')=='2668940801').show()\n",
    "# df_possite.where(col('site_id')=='2668940801').show()\n",
    "# df_transaction_possite.select(col('sku_id')).show(2)\n",
    "# df_possite.select(col('site_id')).show(2)"
   ]
  }
 ],
 "metadata": {
  "application/vnd.databricks.v1+notebook": {
   "computePreferences": null,
   "dashboards": [],
   "environmentMetadata": {
    "base_environment": "",
    "client": "1"
   },
   "language": "python",
   "notebookMetadata": {
    "pythonIndentUnit": 4
   },
   "notebookName": "Data_Ingestion",
   "widgets": {}
  }
 },
 "nbformat": 4,
 "nbformat_minor": 0
}
